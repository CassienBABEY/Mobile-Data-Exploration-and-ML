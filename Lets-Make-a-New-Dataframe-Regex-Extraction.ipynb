{
 "cells": [
  {
   "cell_type": "markdown",
   "id": "c1041ba6",
   "metadata": {
    "papermill": {
     "duration": 0.022001,
     "end_time": "2023-08-01T19:26:11.312673",
     "exception": false,
     "start_time": "2023-08-01T19:26:11.290672",
     "status": "completed"
    },
    "tags": []
   },
   "source": [
    "# <center><u><b> Let's make a New Dataframe :</b></u></center>\n",
    "# <center><u><b>Data Exploration and DataFrame Extraction with Regex </b></u></center>\n",
    "\n",
    "\n",
    "\n",
    "<div style=\"text-align:center\">\n",
    "    <img src=\"https://st2.depositphotos.com/4191945/7462/v/450/depositphotos_74627113-stock-illustration-document-funnel-or-filter-logo.jpg\" alt=\"Filter Logo\">\n",
    "</div>"
   ]
  },
  {
   "cell_type": "markdown",
   "id": "261624fb",
   "metadata": {
    "ExecuteTime": {
     "end_time": "2023-07-31T17:16:27.057320Z",
     "start_time": "2023-07-31T17:16:27.051924Z"
    },
    "_kg_hide-input": true,
    "papermill": {
     "duration": 0.021223,
     "end_time": "2023-08-01T19:26:11.355553",
     "exception": false,
     "start_time": "2023-08-01T19:26:11.334330",
     "status": "completed"
    },
    "tags": []
   },
   "source": [
    "**We will propose creating a dataframe by extracting features with Regex.**\n",
    "\n",
    "## <u>Table of Contents</u>\n",
    "\n",
    "#### &rarr; [1.Introduction](#introduction)\n",
    "- [1.1.Objectives](#oap)\n",
    "- [1.2.Where do the data come from?](#wdf)\n",
    "- [1.3.Description of Variables](#wdf2)\n",
    "\n",
    "\n",
    "#### &rarr; [2.New Dataframe](#dpp)\n",
    "- [2.1.Description of New Variables](#df)\n",
    "- [2.2.The New Dataframe](#df2)\n",
    "\n",
    "\n",
    "#### &rarr; [3.Data extraction](#eda)\n",
    "- [3.1.Dataframe overview](#eda1)\n",
    "- [3.2.Price cleaning](#eda2)\n",
    "- [3.3.Features extraction from \"name](#eda3)\n",
    "\n",
    "\n",
    "    - 3.3.1. Brand cleaning\n",
    "    \n",
    "    \n",
    "    - 3.3.2. Color cleaning\n",
    "    \n",
    "    \n",
    "    - 3.3.3. Storage cleaning\n",
    "    \n",
    "    \n",
    "\n",
    "#### &rarr; [4.Feature Extraction from the Corpus](#ce)\n",
    "- [4.1.Corpus WordCloud](#ce1)\n",
    "- [4.2.System extraction](#ce2)\n",
    "- [4.3.Processor Type extraction](#ce3)\n",
    "- [4.4.Resolution extraction](#ce4)\n",
    "- [4.5.Size extraction](#ce5)\n",
    "\n",
    "\n",
    "#### &rarr; [5.Save New Dataframe](#snd)\n",
    "\n",
    "#### &rarr; [6.Conclusion & Infos](#c&a)"
   ]
  },
  {
   "cell_type": "markdown",
   "id": "725a54ac",
   "metadata": {
    "ExecuteTime": {
     "end_time": "2023-07-31T17:35:55.272215Z",
     "start_time": "2023-07-31T17:35:55.269124Z"
    },
    "papermill": {
     "duration": 0.022726,
     "end_time": "2023-08-01T19:26:11.399945",
     "exception": false,
     "start_time": "2023-08-01T19:26:11.377219",
     "status": "completed"
    },
    "tags": []
   },
   "source": [
    "## <u>1.Introduction<a id=\"introduction\"></a></u>"
   ]
  },
  {
   "cell_type": "markdown",
   "id": "4fefe387",
   "metadata": {
    "papermill": {
     "duration": 0.0209,
     "end_time": "2023-08-01T19:26:11.442132",
     "exception": false,
     "start_time": "2023-08-01T19:26:11.421232",
     "status": "completed"
    },
    "tags": []
   },
   "source": [
    "### <u>1.1.Objectives and Problem Statement<a id=\"oap\"></u>\n",
    "\n",
    "#### <u>Objectives</u>\n",
    "\n",
    "Smartphones have become an essential part of our daily lives, offering a multitude of features that go far beyond simple phone calls. These versatile devices are true technological marvels, providing communication capabilities, internet browsing, entertainment, photography, and much more. With fierce competition in the market, smartphone manufacturers strive to offer the best features and performance to cater to the diverse needs and preferences of users.\n",
    "\n",
    "Smartphone Characteristics:\n",
    "\n",
    "Smartphones come with a range of technical features that determine their performance and functionalities. Some key characteristics include the processor, RAM, storage space, screen resolution, camera quality, battery capacity, wireless connectivity like Wi-Fi and Bluetooth, and many others. These features vary significantly from one model to another, allowing consumers to choose a smartphone that suits their specific requirements.\n",
    "\n",
    "Using Characteristics for Prediction:\n",
    "\n",
    "Smartphone features can also be used in more advanced applications, such as predicting the phone's quality or even its price. By employing machine learning techniques, it is possible to create models that analyze the technical features of smartphones and predict their overall performance or market value.\n",
    "\n",
    "The objective of this study is to explore a smartphone dataset containing various technical characteristics such as processor, RAM, storage capacity, screen resolution, etc. By using regular expressions (Regex) and data processing techniques, we will aim to extract and prepare these features to create an enriched new DataFrame. This DataFrame can then be used to train machine learning models to predict the overall rating or price of smartphones based on their technical characteristics.\n",
    "\n",
    "By achieving these objectives, we hope to gain a better understanding of how smartphone features can influence their overall performance and value, while also developing skills in data processing and machine learning for practical use in data analysis and machine learning applications."
   ]
  },
  {
   "cell_type": "markdown",
   "id": "e334a4fd",
   "metadata": {
    "ExecuteTime": {
     "end_time": "2023-07-31T17:42:17.499628Z",
     "start_time": "2023-07-31T17:42:17.494908Z"
    },
    "papermill": {
     "duration": 0.021166,
     "end_time": "2023-08-01T19:26:11.484497",
     "exception": false,
     "start_time": "2023-08-01T19:26:11.463331",
     "status": "completed"
    },
    "tags": []
   },
   "source": [
    "### <u>1.2.Where do the data come from?<a id=\"wdf\"></u>\n",
    "    \n",
    "Welcome to the Mobile Recommendation System Dataset a comprehensive collection of all smartphones providing valuable insights into all mobile phones categories cutting-edge range of mobile devices. This dataset is a result of meticulous web scraping from trusted source Flipkart.\n",
    "The data is available on Kaggle : [Mobile Recommendation System Dataset](https://www.kaggle.com/datasets/gyanprakashkushwaha/mobile-recommendation-system-dataset)"
   ]
  },
  {
   "cell_type": "markdown",
   "id": "828a1abb",
   "metadata": {
    "papermill": {
     "duration": 0.022067,
     "end_time": "2023-08-01T19:26:11.527746",
     "exception": false,
     "start_time": "2023-08-01T19:26:11.505679",
     "status": "completed"
    },
    "tags": []
   },
   "source": [
    "### <u>1.3.Description of Variables<a id=\"wdf2\"></u>\n",
    "\n",
    "\n",
    "<code>name</code> - Names of various Samsung smartphone models, showcasing the diversity and variety of offerings. \n",
    "    \n",
    "    \n",
    "<code>ratings</code> - User ratings and reviews associated with each model, reflecting customer satisfaction and feedback.\n",
    "    \n",
    "    \n",
    "<code>price</code> - Prices of the Samsung mobiles, helping users understand the affordability and value proposition of each device.\n",
    "    \n",
    "    \n",
    "<code>corpus</code> - where there is complete information of storage_ram, camera, oS_Processor, display, network and battery.  \n",
    "    "
   ]
  },
  {
   "cell_type": "markdown",
   "id": "35c79c25",
   "metadata": {
    "papermill": {
     "duration": 0.020958,
     "end_time": "2023-08-01T19:26:11.570172",
     "exception": false,
     "start_time": "2023-08-01T19:26:11.549214",
     "status": "completed"
    },
    "tags": []
   },
   "source": [
    "## <u>2.New Dataframe<a id=\"dpp\"></a></u>\n",
    "\n",
    "**We directly provide the final result below.  \n",
    "Other features could have been extracted, but the changing quality of the corpus and its readability led us to focus on the most represented characteristics.**  \n",
    "\n",
    "\n",
    "**Feel free to save this dataframe for your own projects.** \n"
   ]
  },
  {
   "cell_type": "markdown",
   "id": "2b7912f1",
   "metadata": {
    "papermill": {
     "duration": 0.022894,
     "end_time": "2023-08-01T19:26:11.614873",
     "exception": false,
     "start_time": "2023-08-01T19:26:11.591979",
     "status": "completed"
    },
    "tags": []
   },
   "source": [
    "### <u>2.1.Description of New Variables<a id=\"df\"></a></u>\n",
    "\n",
    "  \n",
    "   \n",
    "\n",
    "<code>ratings</code> -The average rating given by users (numeric: between 2.9 and 5 ) \n",
    "    \n",
    "    \n",
    "<code>price</code> - The price of the phone in India (in dollars) (numeric: between 100 and 1094)  \n",
    "    \n",
    "    \n",
    "<code>corpus</code> - This contains complete information of storage_ram, camera, oS_Processor, display, network and battery. (text)  \n",
    "    \n",
    "    \n",
    "<code>brand</code> - The brand of the phone (nominal: 'samsung', 'redmi', 'vivo', 'oppo', 'oneplus', 'realme', 'infinix', 'tecno', 'motorola', 'mi', 'xiaomi')  \n",
    "    \n",
    "    \n",
    "<code>mobile_name</code> - The name and version of the phone size (text)\n",
    "    \n",
    "    \n",
    "<code>color</code> - The color of the phone (nominal: 'black', 'blue', 'green', 'white', 'grey', 'gold, 'silver', 'purple') \n",
    "    \n",
    "    \n",
    "<code>system</code> - The os of the phone (binary: 'android' - 'ios') \n",
    "    \n",
    "    \n",
    "<code>processor_type</code> - The type of processor of the phone (nominal: 'mediatek', 'qualcomm', 'intel', 'samsung')  \n",
    "    \n",
    "    \n",
    "<code>resolution</code> - The resolution of the phone (ordinal: 'HD', 'Full HD', '2K', '4K')\n",
    "    \n",
    "    \n",
    "<code>size</code> - The phone's size in inches (numeric: between 1.8 and 7.6)  \n",
    "    \n",
    "    \n",
    "<code>storage</code> - The storage capacity of the phone in GB (numeric: between 32 and 256)  "
   ]
  },
  {
   "cell_type": "markdown",
   "id": "e7f5a41f",
   "metadata": {
    "ExecuteTime": {
     "end_time": "2023-07-31T17:52:02.169337Z",
     "start_time": "2023-07-31T17:52:02.163418Z"
    },
    "papermill": {
     "duration": 0.021106,
     "end_time": "2023-08-01T19:26:11.657133",
     "exception": false,
     "start_time": "2023-08-01T19:26:11.636027",
     "status": "completed"
    },
    "tags": []
   },
   "source": [
    "### <u>2.2.The New Dataframe<a id=\"df2\"></a></u>\n",
    "\n",
    "\n",
    "<details>\n",
    "<summary><b>Click to toggle code</b></summary>\n",
    "\n",
    "```python\n",
    "import pandas as pd\n",
    "import matplotlib.pyplot as plt\n",
    "import seaborn as sns\n",
    "import numpy as np\n",
    "import re\n",
    "import warnings\n",
    "warnings.filterwarnings('ignore')\n",
    "\n",
    "dataframe = pd.read('data/mobile_characteristics.csv')\n",
    "```"
   ]
  },
  {
   "cell_type": "code",
   "execution_count": 1,
   "id": "f07f8e39",
   "metadata": {
    "ExecuteTime": {
     "end_time": "2023-08-08T21:48:59.541487Z",
     "start_time": "2023-08-08T21:48:58.452156Z"
    },
    "execution": {
     "iopub.execute_input": "2023-08-01T19:26:11.703646Z",
     "iopub.status.busy": "2023-08-01T19:26:11.703135Z",
     "iopub.status.idle": "2023-08-01T19:26:12.994204Z",
     "shell.execute_reply": "2023-08-01T19:26:12.993440Z"
    },
    "hide_input": false,
    "jupyter": {
     "source_hidden": true
    },
    "papermill": {
     "duration": 1.316892,
     "end_time": "2023-08-01T19:26:12.996262",
     "exception": false,
     "start_time": "2023-08-01T19:26:11.679370",
     "status": "completed"
    },
    "scrolled": true,
    "tags": []
   },
   "outputs": [
    {
     "data": {
      "text/html": [
       "<div>\n",
       "<style scoped>\n",
       "    .dataframe tbody tr th:only-of-type {\n",
       "        vertical-align: middle;\n",
       "    }\n",
       "\n",
       "    .dataframe tbody tr th {\n",
       "        vertical-align: top;\n",
       "    }\n",
       "\n",
       "    .dataframe thead th {\n",
       "        text-align: right;\n",
       "    }\n",
       "</style>\n",
       "<table border=\"1\" class=\"dataframe\">\n",
       "  <thead>\n",
       "    <tr style=\"text-align: right;\">\n",
       "      <th></th>\n",
       "      <th>ratings</th>\n",
       "      <th>price</th>\n",
       "      <th>imgURL</th>\n",
       "      <th>corpus</th>\n",
       "      <th>brand</th>\n",
       "      <th>mobile_name</th>\n",
       "      <th>color</th>\n",
       "      <th>storage</th>\n",
       "      <th>system</th>\n",
       "      <th>processor_type</th>\n",
       "      <th>resolution</th>\n",
       "      <th>size</th>\n",
       "    </tr>\n",
       "  </thead>\n",
       "  <tbody>\n",
       "    <tr>\n",
       "      <th>0</th>\n",
       "      <td>4.2</td>\n",
       "      <td>291</td>\n",
       "      <td>https://rukminim2.flixcart.com/image/312/312/x...</td>\n",
       "      <td>storage128 gbram6  systemandroid 12processor t...</td>\n",
       "      <td>redmi</td>\n",
       "      <td>Note 12 Pro 5G</td>\n",
       "      <td>black</td>\n",
       "      <td>128</td>\n",
       "      <td>android</td>\n",
       "      <td>mediatek</td>\n",
       "      <td>Full HD</td>\n",
       "      <td>6.7</td>\n",
       "    </tr>\n",
       "    <tr>\n",
       "      <th>1</th>\n",
       "      <td>4.5</td>\n",
       "      <td>255</td>\n",
       "      <td>https://rukminim2.flixcart.com/image/312/312/k...</td>\n",
       "      <td>storage128 gbram6 gbexpandable storage256gb  s...</td>\n",
       "      <td>oppo</td>\n",
       "      <td>F11 Pro</td>\n",
       "      <td>green</td>\n",
       "      <td>128</td>\n",
       "      <td>android</td>\n",
       "      <td>mediatek</td>\n",
       "      <td>Full HD</td>\n",
       "      <td>6.5</td>\n",
       "    </tr>\n",
       "    <tr>\n",
       "      <th>2</th>\n",
       "      <td>4.2</td>\n",
       "      <td>159</td>\n",
       "      <td>https://rukminim2.flixcart.com/image/312/312/x...</td>\n",
       "      <td>storage64 gbram4  systemandroid 11processor sp...</td>\n",
       "      <td>redmi</td>\n",
       "      <td>Note 11</td>\n",
       "      <td>white</td>\n",
       "      <td>64</td>\n",
       "      <td>android</td>\n",
       "      <td>intel</td>\n",
       "      <td>Full HD</td>\n",
       "      <td>6.4</td>\n",
       "    </tr>\n",
       "  </tbody>\n",
       "</table>\n",
       "</div>"
      ],
      "text/plain": [
       "   ratings  price                                             imgURL  \\\n",
       "0      4.2    291  https://rukminim2.flixcart.com/image/312/312/x...   \n",
       "1      4.5    255  https://rukminim2.flixcart.com/image/312/312/k...   \n",
       "2      4.2    159  https://rukminim2.flixcart.com/image/312/312/x...   \n",
       "\n",
       "                                              corpus  brand     mobile_name  \\\n",
       "0  storage128 gbram6  systemandroid 12processor t...  redmi  Note 12 Pro 5G   \n",
       "1  storage128 gbram6 gbexpandable storage256gb  s...   oppo         F11 Pro   \n",
       "2  storage64 gbram4  systemandroid 11processor sp...  redmi         Note 11   \n",
       "\n",
       "   color  storage   system processor_type resolution  size  \n",
       "0  black      128  android       mediatek    Full HD   6.7  \n",
       "1  green      128  android       mediatek    Full HD   6.5  \n",
       "2  white       64  android          intel    Full HD   6.4  "
      ]
     },
     "execution_count": 1,
     "metadata": {},
     "output_type": "execute_result"
    }
   ],
   "source": [
    "import pandas as pd\n",
    "import matplotlib.pyplot as plt\n",
    "import seaborn as sns\n",
    "import numpy as np\n",
    "import re\n",
    "import warnings\n",
    "warnings.filterwarnings('ignore')\n",
    "\n",
    "dataframe = pd.read_csv('data/mobile_characteristics.csv')\n",
    "dataframe.head(3)"
   ]
  },
  {
   "cell_type": "markdown",
   "id": "227f4214",
   "metadata": {
    "_kg_hide-input": true,
    "papermill": {
     "duration": 0.021355,
     "end_time": "2023-08-01T19:26:13.039571",
     "exception": false,
     "start_time": "2023-08-01T19:26:13.018216",
     "status": "completed"
    },
    "tags": []
   },
   "source": [
    "## <u>3.Data extraction<a id=\"eda\"></a></u>"
   ]
  },
  {
   "cell_type": "markdown",
   "id": "17b9fb9e",
   "metadata": {
    "ExecuteTime": {
     "end_time": "2023-07-31T18:18:32.080847Z",
     "start_time": "2023-07-31T18:18:32.077882Z"
    },
    "papermill": {
     "duration": 0.022035,
     "end_time": "2023-08-01T19:26:13.083071",
     "exception": false,
     "start_time": "2023-08-01T19:26:13.061036",
     "status": "completed"
    },
    "tags": []
   },
   "source": [
    "### <u>3.1.Dataframe overview<a id=\"eda1\"></a></u>\n",
    "\n",
    "<details>\n",
    "<summary><b>Click to toggle code</b></summary>\n",
    "\n",
    "```python\n",
    "df = pd.read_csv('data/mobile.csv')\n",
    "df.head(2)\n",
    "```"
   ]
  },
  {
   "cell_type": "code",
   "execution_count": 2,
   "id": "d8090d97",
   "metadata": {
    "ExecuteTime": {
     "end_time": "2023-08-08T21:49:17.635881Z",
     "start_time": "2023-08-08T21:49:17.606886Z"
    },
    "execution": {
     "iopub.execute_input": "2023-08-01T19:26:13.128420Z",
     "iopub.status.busy": "2023-08-01T19:26:13.127799Z",
     "iopub.status.idle": "2023-08-01T19:26:13.181162Z",
     "shell.execute_reply": "2023-08-01T19:26:13.180445Z"
    },
    "jupyter": {
     "source_hidden": true
    },
    "papermill": {
     "duration": 0.078136,
     "end_time": "2023-08-01T19:26:13.183040",
     "exception": false,
     "start_time": "2023-08-01T19:26:13.104904",
     "status": "completed"
    },
    "tags": []
   },
   "outputs": [
    {
     "data": {
      "text/html": [
       "<div>\n",
       "<style scoped>\n",
       "    .dataframe tbody tr th:only-of-type {\n",
       "        vertical-align: middle;\n",
       "    }\n",
       "\n",
       "    .dataframe tbody tr th {\n",
       "        vertical-align: top;\n",
       "    }\n",
       "\n",
       "    .dataframe thead th {\n",
       "        text-align: right;\n",
       "    }\n",
       "</style>\n",
       "<table border=\"1\" class=\"dataframe\">\n",
       "  <thead>\n",
       "    <tr style=\"text-align: right;\">\n",
       "      <th></th>\n",
       "      <th>name</th>\n",
       "      <th>ratings</th>\n",
       "      <th>price</th>\n",
       "      <th>imgURL</th>\n",
       "      <th>corpus</th>\n",
       "    </tr>\n",
       "  </thead>\n",
       "  <tbody>\n",
       "    <tr>\n",
       "      <th>0</th>\n",
       "      <td>REDMI Note 12 Pro 5G (Onyx Black, 128 GB)</td>\n",
       "      <td>4.2</td>\n",
       "      <td>23999</td>\n",
       "      <td>https://rukminim2.flixcart.com/image/312/312/x...</td>\n",
       "      <td>Storage128 GBRAM6  SystemAndroid 12Processor T...</td>\n",
       "    </tr>\n",
       "    <tr>\n",
       "      <th>1</th>\n",
       "      <td>OPPO F11 Pro (Aurora Green, 128 GB)</td>\n",
       "      <td>4.5</td>\n",
       "      <td>₹20,999</td>\n",
       "      <td>https://rukminim2.flixcart.com/image/312/312/k...</td>\n",
       "      <td>Storage128 GBRAM6 GBExpandable Storage256GB  S...</td>\n",
       "    </tr>\n",
       "  </tbody>\n",
       "</table>\n",
       "</div>"
      ],
      "text/plain": [
       "                                        name  ratings    price  \\\n",
       "0  REDMI Note 12 Pro 5G (Onyx Black, 128 GB)      4.2    23999   \n",
       "1        OPPO F11 Pro (Aurora Green, 128 GB)      4.5  ₹20,999   \n",
       "\n",
       "                                              imgURL  \\\n",
       "0  https://rukminim2.flixcart.com/image/312/312/x...   \n",
       "1  https://rukminim2.flixcart.com/image/312/312/k...   \n",
       "\n",
       "                                              corpus  \n",
       "0  Storage128 GBRAM6  SystemAndroid 12Processor T...  \n",
       "1  Storage128 GBRAM6 GBExpandable Storage256GB  S...  "
      ]
     },
     "execution_count": 2,
     "metadata": {},
     "output_type": "execute_result"
    }
   ],
   "source": [
    "df = pd.read_csv('data/mobile.csv')\n",
    "df.head(2)"
   ]
  },
  {
   "cell_type": "code",
   "execution_count": 3,
   "id": "8ee999f9",
   "metadata": {
    "ExecuteTime": {
     "end_time": "2023-08-01T14:01:27.348722Z",
     "start_time": "2023-08-01T14:01:27.335656Z"
    },
    "execution": {
     "iopub.execute_input": "2023-08-01T19:26:13.236001Z",
     "iopub.status.busy": "2023-08-01T19:26:13.235140Z",
     "iopub.status.idle": "2023-08-01T19:26:13.262463Z",
     "shell.execute_reply": "2023-08-01T19:26:13.261378Z"
    },
    "jupyter": {
     "source_hidden": true
    },
    "papermill": {
     "duration": 0.059676,
     "end_time": "2023-08-01T19:26:13.265330",
     "exception": false,
     "start_time": "2023-08-01T19:26:13.205654",
     "status": "completed"
    },
    "tags": []
   },
   "outputs": [
    {
     "name": "stdout",
     "output_type": "stream",
     "text": [
      "<class 'pandas.core.frame.DataFrame'>\n",
      "RangeIndex: 2546 entries, 0 to 2545\n",
      "Data columns (total 5 columns):\n",
      " #   Column   Non-Null Count  Dtype  \n",
      "---  ------   --------------  -----  \n",
      " 0   name     2546 non-null   object \n",
      " 1   ratings  2546 non-null   float64\n",
      " 2   price    2546 non-null   object \n",
      " 3   imgURL   2546 non-null   object \n",
      " 4   corpus   2534 non-null   object \n",
      "dtypes: float64(1), object(4)\n",
      "memory usage: 99.6+ KB\n"
     ]
    }
   ],
   "source": [
    "df.info()"
   ]
  },
  {
   "cell_type": "code",
   "execution_count": 4,
   "id": "da570819",
   "metadata": {
    "ExecuteTime": {
     "end_time": "2023-08-01T14:01:27.367757Z",
     "start_time": "2023-08-01T14:01:27.352831Z"
    },
    "execution": {
     "iopub.execute_input": "2023-08-01T19:26:13.321666Z",
     "iopub.status.busy": "2023-08-01T19:26:13.321256Z",
     "iopub.status.idle": "2023-08-01T19:26:13.330187Z",
     "shell.execute_reply": "2023-08-01T19:26:13.329439Z"
    },
    "jupyter": {
     "source_hidden": true
    },
    "papermill": {
     "duration": 0.03644,
     "end_time": "2023-08-01T19:26:13.332025",
     "exception": false,
     "start_time": "2023-08-01T19:26:13.295585",
     "status": "completed"
    },
    "tags": []
   },
   "outputs": [
    {
     "data": {
      "text/plain": [
       "name        0\n",
       "ratings     0\n",
       "price       0\n",
       "imgURL      0\n",
       "corpus     12\n",
       "dtype: int64"
      ]
     },
     "execution_count": 4,
     "metadata": {},
     "output_type": "execute_result"
    }
   ],
   "source": [
    "df.isnull().sum()"
   ]
  },
  {
   "cell_type": "markdown",
   "id": "38dae084",
   "metadata": {
    "papermill": {
     "duration": 0.023648,
     "end_time": "2023-08-01T19:26:13.377929",
     "exception": false,
     "start_time": "2023-08-01T19:26:13.354281",
     "status": "completed"
    },
    "tags": []
   },
   "source": [
    "**We drop nan lines**\n",
    "\n",
    "\n",
    "<details>\n",
    "<summary><b>Click to toggle code</b></summary>\n",
    "\n",
    "```python\n",
    "df = df.dropna()\n",
    "df.isnull().sum()\n",
    "```"
   ]
  },
  {
   "cell_type": "code",
   "execution_count": 5,
   "id": "17bc6009",
   "metadata": {
    "ExecuteTime": {
     "end_time": "2023-08-01T14:01:27.384776Z",
     "start_time": "2023-08-01T14:01:27.370356Z"
    },
    "execution": {
     "iopub.execute_input": "2023-08-01T19:26:13.424136Z",
     "iopub.status.busy": "2023-08-01T19:26:13.423464Z",
     "iopub.status.idle": "2023-08-01T19:26:13.435376Z",
     "shell.execute_reply": "2023-08-01T19:26:13.434653Z"
    },
    "jupyter": {
     "source_hidden": true
    },
    "papermill": {
     "duration": 0.037192,
     "end_time": "2023-08-01T19:26:13.437169",
     "exception": false,
     "start_time": "2023-08-01T19:26:13.399977",
     "status": "completed"
    },
    "tags": []
   },
   "outputs": [
    {
     "data": {
      "text/plain": [
       "name       0\n",
       "ratings    0\n",
       "price      0\n",
       "imgURL     0\n",
       "corpus     0\n",
       "dtype: int64"
      ]
     },
     "execution_count": 5,
     "metadata": {},
     "output_type": "execute_result"
    }
   ],
   "source": [
    "df = df.dropna()\n",
    "df.isnull().sum()"
   ]
  },
  {
   "cell_type": "code",
   "execution_count": 6,
   "id": "db88287b",
   "metadata": {
    "ExecuteTime": {
     "end_time": "2023-08-01T14:01:27.391630Z",
     "start_time": "2023-08-01T14:01:27.387449Z"
    },
    "execution": {
     "iopub.execute_input": "2023-08-01T19:26:13.483500Z",
     "iopub.status.busy": "2023-08-01T19:26:13.482847Z",
     "iopub.status.idle": "2023-08-01T19:26:13.489018Z",
     "shell.execute_reply": "2023-08-01T19:26:13.487936Z"
    },
    "jupyter": {
     "source_hidden": true
    },
    "papermill": {
     "duration": 0.031677,
     "end_time": "2023-08-01T19:26:13.491062",
     "exception": false,
     "start_time": "2023-08-01T19:26:13.459385",
     "status": "completed"
    },
    "tags": []
   },
   "outputs": [
    {
     "data": {
      "text/plain": [
       "(2534, 5)"
      ]
     },
     "execution_count": 6,
     "metadata": {},
     "output_type": "execute_result"
    }
   ],
   "source": [
    "df.shape"
   ]
  },
  {
   "cell_type": "markdown",
   "id": "b4a3cd2d",
   "metadata": {
    "papermill": {
     "duration": 0.02271,
     "end_time": "2023-08-01T19:26:13.536317",
     "exception": false,
     "start_time": "2023-08-01T19:26:13.513607",
     "status": "completed"
    },
    "tags": []
   },
   "source": [
    "### <u>3.2.Price cleaning<a id=\"eda2\"></a></u>\n",
    "\n",
    "We clean Price column to keep number then we apply a dollar conversion"
   ]
  },
  {
   "cell_type": "markdown",
   "id": "d773d58c",
   "metadata": {
    "papermill": {
     "duration": 0.022321,
     "end_time": "2023-08-01T19:26:13.581928",
     "exception": false,
     "start_time": "2023-08-01T19:26:13.559607",
     "status": "completed"
    },
    "tags": []
   },
   "source": [
    "Number extraction function :\n",
    "\n",
    "<details>\n",
    "<summary><b>Click to toggle code</b></summary>\n",
    "\n",
    "```python\n",
    "def extract_numbers(text):\n",
    "    # Use a regular expression to extract numbers (\\d+)\n",
    "    numbers = re.findall(r'\\d+', text)\n",
    "    # Join the numbers to obtain a single string\n",
    "    cleaned_text = ''.join(numbers)\n",
    "    return cleaned_text\n",
    "```"
   ]
  },
  {
   "cell_type": "code",
   "execution_count": 7,
   "id": "5e7c16ac",
   "metadata": {
    "ExecuteTime": {
     "end_time": "2023-08-01T14:01:27.402110Z",
     "start_time": "2023-08-01T14:01:27.394452Z"
    },
    "execution": {
     "iopub.execute_input": "2023-08-01T19:26:13.629345Z",
     "iopub.status.busy": "2023-08-01T19:26:13.628600Z",
     "iopub.status.idle": "2023-08-01T19:26:13.633673Z",
     "shell.execute_reply": "2023-08-01T19:26:13.632930Z"
    },
    "jupyter": {
     "source_hidden": true
    },
    "papermill": {
     "duration": 0.031164,
     "end_time": "2023-08-01T19:26:13.635682",
     "exception": false,
     "start_time": "2023-08-01T19:26:13.604518",
     "status": "completed"
    },
    "tags": []
   },
   "outputs": [],
   "source": [
    "def extract_numbers(text):\n",
    "    # Use a regular expression to extract numbers (\\d+)\n",
    "    numbers = re.findall(r'\\d+', text)\n",
    "    # Join the numbers to obtain a single string\n",
    "    cleaned_text = ''.join(numbers)\n",
    "    return cleaned_text"
   ]
  },
  {
   "cell_type": "markdown",
   "id": "6463fd1e",
   "metadata": {
    "ExecuteTime": {
     "end_time": "2023-07-31T18:36:46.237560Z",
     "start_time": "2023-07-31T18:36:46.229829Z"
    },
    "papermill": {
     "duration": 0.024324,
     "end_time": "2023-08-01T19:26:13.687821",
     "exception": false,
     "start_time": "2023-08-01T19:26:13.663497",
     "status": "completed"
    },
    "tags": []
   },
   "source": [
    "Dollar converter :\n",
    "\n",
    "<details>\n",
    "<summary><b>Click to toggle code</b></summary>\n",
    "\n",
    "```python\n",
    "def convert_inr_to_usd(amount_in_inr, exchange_rate_inr_to_usd):\n",
    "    \"\"\"\n",
    "    Converts an amount in Indian Rupees (INR) to US Dollars (USD) using the given exchange rate.\n",
    "\n",
    "    :param amount_in_inr: Amount in Indian Rupees (INR) to be converted to US Dollars (USD).\n",
    "    :type amount_in_inr: float\n",
    "    :param exchange_rate_inr_to_usd: Exchange rate from Indian Rupees (INR) to US Dollars (USD).\n",
    "    :type exchange_rate_inr_to_usd: float\n",
    "    :return: Equivalent amount in US Dollars (USD).\n",
    "    :rtype: float\n",
    "    \"\"\"\n",
    "    amount_in_usd = amount_in_inr / exchange_rate_inr_to_usd\n",
    "    return amount_in_usd\n",
    "```"
   ]
  },
  {
   "cell_type": "code",
   "execution_count": 8,
   "id": "698b97ed",
   "metadata": {
    "ExecuteTime": {
     "end_time": "2023-08-01T14:01:27.410116Z",
     "start_time": "2023-08-01T14:01:27.404924Z"
    },
    "execution": {
     "iopub.execute_input": "2023-08-01T19:26:13.738177Z",
     "iopub.status.busy": "2023-08-01T19:26:13.737414Z",
     "iopub.status.idle": "2023-08-01T19:26:13.743142Z",
     "shell.execute_reply": "2023-08-01T19:26:13.742438Z"
    },
    "jupyter": {
     "source_hidden": true
    },
    "papermill": {
     "duration": 0.034306,
     "end_time": "2023-08-01T19:26:13.745149",
     "exception": false,
     "start_time": "2023-08-01T19:26:13.710843",
     "status": "completed"
    },
    "tags": []
   },
   "outputs": [],
   "source": [
    "def convert_inr_to_usd(amount_in_inr, exchange_rate_inr_to_usd):\n",
    "    \"\"\"\n",
    "    Converts an amount in Indian Rupees (INR) to US Dollars (USD) using the given exchange rate.\n",
    "\n",
    "    :param amount_in_inr: Amount in Indian Rupees (INR) to be converted to US Dollars (USD).\n",
    "    :type amount_in_inr: float\n",
    "    :param exchange_rate_inr_to_usd: Exchange rate from Indian Rupees (INR) to US Dollars (USD).\n",
    "    :type exchange_rate_inr_to_usd: float\n",
    "    :return: Equivalent amount in US Dollars (USD).\n",
    "    :rtype: float\n",
    "    \"\"\"\n",
    "    amount_in_usd = amount_in_inr / exchange_rate_inr_to_usd\n",
    "    return amount_in_usd"
   ]
  },
  {
   "cell_type": "markdown",
   "id": "f29a5038",
   "metadata": {
    "papermill": {
     "duration": 0.022306,
     "end_time": "2023-08-01T19:26:13.790318",
     "exception": false,
     "start_time": "2023-08-01T19:26:13.768012",
     "status": "completed"
    },
    "tags": []
   },
   "source": [
    "We apply extract_number on Price column :"
   ]
  },
  {
   "cell_type": "code",
   "execution_count": 9,
   "id": "2cffd0ca",
   "metadata": {
    "ExecuteTime": {
     "end_time": "2023-08-01T14:01:27.423241Z",
     "start_time": "2023-08-01T14:01:27.412304Z"
    },
    "execution": {
     "iopub.execute_input": "2023-08-01T19:26:13.838161Z",
     "iopub.status.busy": "2023-08-01T19:26:13.837237Z",
     "iopub.status.idle": "2023-08-01T19:26:13.847518Z",
     "shell.execute_reply": "2023-08-01T19:26:13.846237Z"
    },
    "jupyter": {
     "source_hidden": true
    },
    "papermill": {
     "duration": 0.036874,
     "end_time": "2023-08-01T19:26:13.849785",
     "exception": false,
     "start_time": "2023-08-01T19:26:13.812911",
     "status": "completed"
    },
    "tags": []
   },
   "outputs": [],
   "source": [
    "df['price'] = df['price'].apply(extract_numbers).astype(int)"
   ]
  },
  {
   "cell_type": "markdown",
   "id": "1f132c81",
   "metadata": {
    "papermill": {
     "duration": 0.022414,
     "end_time": "2023-08-01T19:26:13.895013",
     "exception": false,
     "start_time": "2023-08-01T19:26:13.872599",
     "status": "completed"
    },
    "tags": []
   },
   "source": [
    "Then we apply the dollar converter :"
   ]
  },
  {
   "cell_type": "code",
   "execution_count": 10,
   "id": "706df741",
   "metadata": {
    "ExecuteTime": {
     "end_time": "2023-08-01T14:01:27.441863Z",
     "start_time": "2023-08-01T14:01:27.430735Z"
    },
    "execution": {
     "iopub.execute_input": "2023-08-01T19:26:13.941662Z",
     "iopub.status.busy": "2023-08-01T19:26:13.941164Z",
     "iopub.status.idle": "2023-08-01T19:26:13.949445Z",
     "shell.execute_reply": "2023-08-01T19:26:13.948597Z"
    },
    "jupyter": {
     "source_hidden": true
    },
    "papermill": {
     "duration": 0.034384,
     "end_time": "2023-08-01T19:26:13.951901",
     "exception": false,
     "start_time": "2023-08-01T19:26:13.917517",
     "status": "completed"
    },
    "tags": []
   },
   "outputs": [],
   "source": [
    "exchange_rate_inr_to_usd = 82.26\n",
    "\n",
    "# Apply the conversion function to the \"price\" column\n",
    "df['price'] = df['price'].apply(convert_inr_to_usd, exchange_rate_inr_to_usd=exchange_rate_inr_to_usd).astype(int)"
   ]
  },
  {
   "cell_type": "markdown",
   "id": "3bf63d4a",
   "metadata": {
    "papermill": {
     "duration": 0.022752,
     "end_time": "2023-08-01T19:26:13.998575",
     "exception": false,
     "start_time": "2023-08-01T19:26:13.975823",
     "status": "completed"
    },
    "tags": []
   },
   "source": [
    "We delete prices < 100 dollar : "
   ]
  },
  {
   "cell_type": "code",
   "execution_count": 11,
   "id": "85ab32a5",
   "metadata": {
    "ExecuteTime": {
     "end_time": "2023-08-01T14:01:27.461984Z",
     "start_time": "2023-08-01T14:01:27.444985Z"
    },
    "execution": {
     "iopub.execute_input": "2023-08-01T19:26:14.046731Z",
     "iopub.status.busy": "2023-08-01T19:26:14.046325Z",
     "iopub.status.idle": "2023-08-01T19:26:14.054176Z",
     "shell.execute_reply": "2023-08-01T19:26:14.053348Z"
    },
    "jupyter": {
     "source_hidden": true
    },
    "papermill": {
     "duration": 0.034343,
     "end_time": "2023-08-01T19:26:14.055970",
     "exception": false,
     "start_time": "2023-08-01T19:26:14.021627",
     "status": "completed"
    },
    "tags": []
   },
   "outputs": [],
   "source": [
    "# Create a mask to select rows where 'price' is less than 100\n",
    "mask = df['price'] < 100\n",
    "\n",
    "# Use the .loc method to select the rows to be deleted, then delete them\n",
    "df.drop(df.loc[mask].index, inplace=True)"
   ]
  },
  {
   "cell_type": "code",
   "execution_count": 12,
   "id": "df34c283",
   "metadata": {
    "ExecuteTime": {
     "end_time": "2023-08-01T14:01:27.480989Z",
     "start_time": "2023-08-01T14:01:27.465025Z"
    },
    "execution": {
     "iopub.execute_input": "2023-08-01T19:26:14.105689Z",
     "iopub.status.busy": "2023-08-01T19:26:14.105281Z",
     "iopub.status.idle": "2023-08-01T19:26:14.116184Z",
     "shell.execute_reply": "2023-08-01T19:26:14.115049Z"
    },
    "jupyter": {
     "source_hidden": true
    },
    "papermill": {
     "duration": 0.038445,
     "end_time": "2023-08-01T19:26:14.118306",
     "exception": false,
     "start_time": "2023-08-01T19:26:14.079861",
     "status": "completed"
    },
    "tags": []
   },
   "outputs": [
    {
     "data": {
      "text/html": [
       "<div>\n",
       "<style scoped>\n",
       "    .dataframe tbody tr th:only-of-type {\n",
       "        vertical-align: middle;\n",
       "    }\n",
       "\n",
       "    .dataframe tbody tr th {\n",
       "        vertical-align: top;\n",
       "    }\n",
       "\n",
       "    .dataframe thead th {\n",
       "        text-align: right;\n",
       "    }\n",
       "</style>\n",
       "<table border=\"1\" class=\"dataframe\">\n",
       "  <thead>\n",
       "    <tr style=\"text-align: right;\">\n",
       "      <th></th>\n",
       "      <th>name</th>\n",
       "      <th>ratings</th>\n",
       "      <th>price</th>\n",
       "      <th>imgURL</th>\n",
       "      <th>corpus</th>\n",
       "    </tr>\n",
       "  </thead>\n",
       "  <tbody>\n",
       "    <tr>\n",
       "      <th>0</th>\n",
       "      <td>REDMI Note 12 Pro 5G (Onyx Black, 128 GB)</td>\n",
       "      <td>4.2</td>\n",
       "      <td>291</td>\n",
       "      <td>https://rukminim2.flixcart.com/image/312/312/x...</td>\n",
       "      <td>Storage128 GBRAM6  SystemAndroid 12Processor T...</td>\n",
       "    </tr>\n",
       "    <tr>\n",
       "      <th>1</th>\n",
       "      <td>OPPO F11 Pro (Aurora Green, 128 GB)</td>\n",
       "      <td>4.5</td>\n",
       "      <td>255</td>\n",
       "      <td>https://rukminim2.flixcart.com/image/312/312/k...</td>\n",
       "      <td>Storage128 GBRAM6 GBExpandable Storage256GB  S...</td>\n",
       "    </tr>\n",
       "  </tbody>\n",
       "</table>\n",
       "</div>"
      ],
      "text/plain": [
       "                                        name  ratings  price  \\\n",
       "0  REDMI Note 12 Pro 5G (Onyx Black, 128 GB)      4.2    291   \n",
       "1        OPPO F11 Pro (Aurora Green, 128 GB)      4.5    255   \n",
       "\n",
       "                                              imgURL  \\\n",
       "0  https://rukminim2.flixcart.com/image/312/312/x...   \n",
       "1  https://rukminim2.flixcart.com/image/312/312/k...   \n",
       "\n",
       "                                              corpus  \n",
       "0  Storage128 GBRAM6  SystemAndroid 12Processor T...  \n",
       "1  Storage128 GBRAM6 GBExpandable Storage256GB  S...  "
      ]
     },
     "execution_count": 12,
     "metadata": {},
     "output_type": "execute_result"
    }
   ],
   "source": [
    "df.head(2)"
   ]
  },
  {
   "cell_type": "markdown",
   "id": "eb70c6b3",
   "metadata": {
    "papermill": {
     "duration": 0.022478,
     "end_time": "2023-08-01T19:26:14.163641",
     "exception": false,
     "start_time": "2023-08-01T19:26:14.141163",
     "status": "completed"
    },
    "tags": []
   },
   "source": [
    "### <u>3.3.Features extraction from \"name<a id=\"eda3\"></a></u>"
   ]
  },
  {
   "cell_type": "markdown",
   "id": "9a57b617",
   "metadata": {
    "papermill": {
     "duration": 0.022233,
     "end_time": "2023-08-01T19:26:14.208410",
     "exception": false,
     "start_time": "2023-08-01T19:26:14.186177",
     "status": "completed"
    },
    "tags": []
   },
   "source": [
    "We will extract various features from the 'name' variable using Regex.\n",
    "\n",
    "\n",
    "extract_infos function :\n",
    "\n",
    "\n",
    "<details>\n",
    "<summary><b>Click to toggle code</b></summary>\n",
    "\n",
    "```python\n",
    "def extract_infos(text):\n",
    "    # Regular expression pattern to capture different parts of the example\n",
    "    pattern = r'^(.*?)\\s+(.*?)\\s+\\((.*?),\\s+(.*?)\\)$'\n",
    "    match = re.match(pattern, text)\n",
    "\n",
    "    if match:\n",
    "        brand = match.group(1)\n",
    "        mobile_name = match.group(2)\n",
    "        color = match.group(3)\n",
    "        storage = match.group(4)\n",
    "\n",
    "        # Replace empty values with None\n",
    "        if not color:\n",
    "            color = None\n",
    "        if not storage:\n",
    "            storage = None\n",
    "\n",
    "        return pd.Series({\n",
    "            'brand': brand,\n",
    "            'mobile_name': mobile_name,\n",
    "            'color': color,\n",
    "            'storage': storage\n",
    "        })\n",
    "    else:\n",
    "        return pd.Series({\n",
    "            'brand': None,\n",
    "            'mobile_name': None,\n",
    "            'color': None,\n",
    "            'storage': None\n",
    "        })\n",
    "```"
   ]
  },
  {
   "cell_type": "code",
   "execution_count": 13,
   "id": "f5df028b",
   "metadata": {
    "ExecuteTime": {
     "end_time": "2023-08-01T14:01:27.495001Z",
     "start_time": "2023-08-01T14:01:27.483467Z"
    },
    "execution": {
     "iopub.execute_input": "2023-08-01T19:26:14.255075Z",
     "iopub.status.busy": "2023-08-01T19:26:14.254708Z",
     "iopub.status.idle": "2023-08-01T19:26:14.261693Z",
     "shell.execute_reply": "2023-08-01T19:26:14.260661Z"
    },
    "jupyter": {
     "source_hidden": true
    },
    "papermill": {
     "duration": 0.032909,
     "end_time": "2023-08-01T19:26:14.263741",
     "exception": false,
     "start_time": "2023-08-01T19:26:14.230832",
     "status": "completed"
    },
    "tags": []
   },
   "outputs": [],
   "source": [
    "def extract_infos(text):\n",
    "    # Regular expression pattern to capture different parts of the example\n",
    "    pattern = r'^(.*?)\\s+(.*?)\\s+\\((.*?),\\s+(.*?)\\)$'\n",
    "    match = re.match(pattern, text)\n",
    "\n",
    "    if match:\n",
    "        brand = match.group(1)\n",
    "        mobile_name = match.group(2)\n",
    "        color = match.group(3)\n",
    "        storage = match.group(4)\n",
    "\n",
    "        # Replace empty values with None\n",
    "        if not color:\n",
    "            color = None\n",
    "        if not storage:\n",
    "            storage = None\n",
    "\n",
    "        return pd.Series({\n",
    "            'brand': brand,\n",
    "            'mobile_name': mobile_name,\n",
    "            'color': color,\n",
    "            'storage': storage\n",
    "        })\n",
    "    else:\n",
    "        return pd.Series({\n",
    "            'brand': None,\n",
    "            'mobile_name': None,\n",
    "            'color': None,\n",
    "            'storage': None\n",
    "        })"
   ]
  },
  {
   "cell_type": "markdown",
   "id": "7ad43539",
   "metadata": {
    "papermill": {
     "duration": 0.022458,
     "end_time": "2023-08-01T19:26:14.308978",
     "exception": false,
     "start_time": "2023-08-01T19:26:14.286520",
     "status": "completed"
    },
    "tags": []
   },
   "source": [
    "We apply the function on our df :\n",
    "\n",
    "<details>\n",
    "<summary><b>Click to toggle code</b></summary>\n",
    "\n",
    "```python\n",
    "# Apply the separation function to the 'name' column\n",
    "data = df['name'].apply(extract_infos)\n",
    "\n",
    "# Concatenate the result with the original DataFrame\n",
    "data = pd.concat([df, data], axis=1)\n",
    "\n",
    "# Remove the 'name' column that contains the original unseparated text\n",
    "data.drop(columns=['name'], inplace=True)\n",
    "```"
   ]
  },
  {
   "cell_type": "code",
   "execution_count": 14,
   "id": "e33f1a64",
   "metadata": {
    "ExecuteTime": {
     "end_time": "2023-08-01T14:01:28.140949Z",
     "start_time": "2023-08-01T14:01:27.497399Z"
    },
    "execution": {
     "iopub.execute_input": "2023-08-01T19:26:14.355797Z",
     "iopub.status.busy": "2023-08-01T19:26:14.355415Z",
     "iopub.status.idle": "2023-08-01T19:26:15.037039Z",
     "shell.execute_reply": "2023-08-01T19:26:15.035962Z"
    },
    "jupyter": {
     "source_hidden": true
    },
    "papermill": {
     "duration": 0.708109,
     "end_time": "2023-08-01T19:26:15.039708",
     "exception": false,
     "start_time": "2023-08-01T19:26:14.331599",
     "status": "completed"
    },
    "tags": []
   },
   "outputs": [],
   "source": [
    "# Apply the separation function to the 'name' column\n",
    "data = df['name'].apply(extract_infos)\n",
    "\n",
    "# Concatenate the result with the original DataFrame\n",
    "data = pd.concat([df, data], axis=1)\n",
    "\n",
    "# Remove the 'name' column that contains the original unseparated text\n",
    "data.drop(columns=['name'], inplace=True)"
   ]
  },
  {
   "cell_type": "code",
   "execution_count": 15,
   "id": "a805215d",
   "metadata": {
    "ExecuteTime": {
     "end_time": "2023-08-01T14:01:28.160986Z",
     "start_time": "2023-08-01T14:01:28.145429Z"
    },
    "execution": {
     "iopub.execute_input": "2023-08-01T19:26:15.086887Z",
     "iopub.status.busy": "2023-08-01T19:26:15.086531Z",
     "iopub.status.idle": "2023-08-01T19:26:15.099689Z",
     "shell.execute_reply": "2023-08-01T19:26:15.098479Z"
    },
    "jupyter": {
     "source_hidden": true
    },
    "papermill": {
     "duration": 0.038951,
     "end_time": "2023-08-01T19:26:15.101549",
     "exception": false,
     "start_time": "2023-08-01T19:26:15.062598",
     "status": "completed"
    },
    "tags": []
   },
   "outputs": [
    {
     "data": {
      "text/html": [
       "<div>\n",
       "<style scoped>\n",
       "    .dataframe tbody tr th:only-of-type {\n",
       "        vertical-align: middle;\n",
       "    }\n",
       "\n",
       "    .dataframe tbody tr th {\n",
       "        vertical-align: top;\n",
       "    }\n",
       "\n",
       "    .dataframe thead th {\n",
       "        text-align: right;\n",
       "    }\n",
       "</style>\n",
       "<table border=\"1\" class=\"dataframe\">\n",
       "  <thead>\n",
       "    <tr style=\"text-align: right;\">\n",
       "      <th></th>\n",
       "      <th>ratings</th>\n",
       "      <th>price</th>\n",
       "      <th>imgURL</th>\n",
       "      <th>corpus</th>\n",
       "      <th>brand</th>\n",
       "      <th>mobile_name</th>\n",
       "      <th>color</th>\n",
       "      <th>storage</th>\n",
       "    </tr>\n",
       "  </thead>\n",
       "  <tbody>\n",
       "    <tr>\n",
       "      <th>0</th>\n",
       "      <td>4.2</td>\n",
       "      <td>291</td>\n",
       "      <td>https://rukminim2.flixcart.com/image/312/312/x...</td>\n",
       "      <td>Storage128 GBRAM6  SystemAndroid 12Processor T...</td>\n",
       "      <td>REDMI</td>\n",
       "      <td>Note 12 Pro 5G</td>\n",
       "      <td>Onyx Black</td>\n",
       "      <td>128 GB</td>\n",
       "    </tr>\n",
       "    <tr>\n",
       "      <th>1</th>\n",
       "      <td>4.5</td>\n",
       "      <td>255</td>\n",
       "      <td>https://rukminim2.flixcart.com/image/312/312/k...</td>\n",
       "      <td>Storage128 GBRAM6 GBExpandable Storage256GB  S...</td>\n",
       "      <td>OPPO</td>\n",
       "      <td>F11 Pro</td>\n",
       "      <td>Aurora Green</td>\n",
       "      <td>128 GB</td>\n",
       "    </tr>\n",
       "  </tbody>\n",
       "</table>\n",
       "</div>"
      ],
      "text/plain": [
       "   ratings  price                                             imgURL  \\\n",
       "0      4.2    291  https://rukminim2.flixcart.com/image/312/312/x...   \n",
       "1      4.5    255  https://rukminim2.flixcart.com/image/312/312/k...   \n",
       "\n",
       "                                              corpus  brand     mobile_name  \\\n",
       "0  Storage128 GBRAM6  SystemAndroid 12Processor T...  REDMI  Note 12 Pro 5G   \n",
       "1  Storage128 GBRAM6 GBExpandable Storage256GB  S...   OPPO         F11 Pro   \n",
       "\n",
       "          color storage  \n",
       "0    Onyx Black  128 GB  \n",
       "1  Aurora Green  128 GB  "
      ]
     },
     "execution_count": 15,
     "metadata": {},
     "output_type": "execute_result"
    }
   ],
   "source": [
    "data.head(2)"
   ]
  },
  {
   "cell_type": "markdown",
   "id": "2a890faf",
   "metadata": {
    "papermill": {
     "duration": 0.02254,
     "end_time": "2023-08-01T19:26:15.147005",
     "exception": false,
     "start_time": "2023-08-01T19:26:15.124465",
     "status": "completed"
    },
    "tags": []
   },
   "source": [
    "##### &rarr; 3.3.1. Brand cleaning :"
   ]
  },
  {
   "cell_type": "markdown",
   "id": "6fa95c47",
   "metadata": {
    "papermill": {
     "duration": 0.022477,
     "end_time": "2023-08-01T19:26:15.192369",
     "exception": false,
     "start_time": "2023-08-01T19:26:15.169892",
     "status": "completed"
    },
    "tags": []
   },
   "source": [
    "Checking occurences"
   ]
  },
  {
   "cell_type": "code",
   "execution_count": 16,
   "id": "109ef8f4",
   "metadata": {
    "ExecuteTime": {
     "end_time": "2023-08-01T14:01:28.181115Z",
     "start_time": "2023-08-01T14:01:28.167360Z"
    },
    "execution": {
     "iopub.execute_input": "2023-08-01T19:26:15.239496Z",
     "iopub.status.busy": "2023-08-01T19:26:15.239060Z",
     "iopub.status.idle": "2023-08-01T19:26:15.247516Z",
     "shell.execute_reply": "2023-08-01T19:26:15.246471Z"
    },
    "jupyter": {
     "source_hidden": true
    },
    "papermill": {
     "duration": 0.034551,
     "end_time": "2023-08-01T19:26:15.249508",
     "exception": false,
     "start_time": "2023-08-01T19:26:15.214957",
     "status": "completed"
    },
    "tags": []
   },
   "outputs": [
    {
     "data": {
      "text/plain": [
       "SAMSUNG     401\n",
       "vivo        264\n",
       "APPLE       264\n",
       "OPPO        244\n",
       "realme      167\n",
       "REDMI       166\n",
       "OnePlus     162\n",
       "Infinix     113\n",
       "Redmi       112\n",
       "Tecno       110\n",
       "MOTOROLA     73\n",
       "Mi           46\n",
       "Xiaomi       40\n",
       "Apple        26\n",
       "Moto          9\n",
       "13            2\n",
       "10T           1\n",
       "Motorola      1\n",
       "11            1\n",
       "MI            1\n",
       "Note          1\n",
       "Name: brand, dtype: int64"
      ]
     },
     "execution_count": 16,
     "metadata": {},
     "output_type": "execute_result"
    }
   ],
   "source": [
    "data['brand'].value_counts()"
   ]
  },
  {
   "cell_type": "markdown",
   "id": "008d081e",
   "metadata": {
    "papermill": {
     "duration": 0.02258,
     "end_time": "2023-08-01T19:26:15.295078",
     "exception": false,
     "start_time": "2023-08-01T19:26:15.272498",
     "status": "completed"
    },
    "tags": []
   },
   "source": [
    "String lowercase :\n",
    "\n",
    "<details>\n",
    "<summary><b>Click to toggle code</b></summary>\n",
    "\n",
    "```python\n",
    "data['brand'] = data['brand'].str.lower()\n",
    "```"
   ]
  },
  {
   "cell_type": "code",
   "execution_count": 17,
   "id": "ffff6524",
   "metadata": {
    "ExecuteTime": {
     "end_time": "2023-08-01T14:01:28.197728Z",
     "start_time": "2023-08-01T14:01:28.188013Z"
    },
    "execution": {
     "iopub.execute_input": "2023-08-01T19:26:15.342969Z",
     "iopub.status.busy": "2023-08-01T19:26:15.342243Z",
     "iopub.status.idle": "2023-08-01T19:26:15.348457Z",
     "shell.execute_reply": "2023-08-01T19:26:15.347653Z"
    },
    "jupyter": {
     "source_hidden": true
    },
    "papermill": {
     "duration": 0.032654,
     "end_time": "2023-08-01T19:26:15.350700",
     "exception": false,
     "start_time": "2023-08-01T19:26:15.318046",
     "status": "completed"
    },
    "tags": []
   },
   "outputs": [],
   "source": [
    "data['brand'] = data['brand'].str.lower()"
   ]
  },
  {
   "cell_type": "markdown",
   "id": "2312952a",
   "metadata": {
    "papermill": {
     "duration": 0.023097,
     "end_time": "2023-08-01T19:26:15.397684",
     "exception": false,
     "start_time": "2023-08-01T19:26:15.374587",
     "status": "completed"
    },
    "tags": []
   },
   "source": [
    "Delete useless data and replace 'moto' :\n",
    "\n",
    "<details>\n",
    "<summary><b>Click to toggle code</b></summary>\n",
    "\n",
    "```python\n",
    "mask = data['brand'].isin(['13', '10t', '11', 'note'])\n",
    "idx_brand = data.index[mask]\n",
    "data.drop(index=idx_brand, inplace=True)\n",
    "\n",
    "data['brand'] = data['brand'].replace('moto','motorola')\n",
    "```"
   ]
  },
  {
   "cell_type": "code",
   "execution_count": 18,
   "id": "39918e6a",
   "metadata": {
    "ExecuteTime": {
     "end_time": "2023-08-01T14:01:28.212358Z",
     "start_time": "2023-08-01T14:01:28.200610Z"
    },
    "execution": {
     "iopub.execute_input": "2023-08-01T19:26:15.446543Z",
     "iopub.status.busy": "2023-08-01T19:26:15.446170Z",
     "iopub.status.idle": "2023-08-01T19:26:15.454101Z",
     "shell.execute_reply": "2023-08-01T19:26:15.453202Z"
    },
    "jupyter": {
     "source_hidden": true
    },
    "papermill": {
     "duration": 0.034884,
     "end_time": "2023-08-01T19:26:15.456194",
     "exception": false,
     "start_time": "2023-08-01T19:26:15.421310",
     "status": "completed"
    },
    "tags": []
   },
   "outputs": [],
   "source": [
    "mask = data['brand'].isin(['13', '10t', '11', 'note'])\n",
    "idx_brand = data.index[mask]\n",
    "data.drop(index=idx_brand, inplace=True)\n",
    "\n",
    "data['brand'] = data['brand'].replace('moto','motorola')"
   ]
  },
  {
   "cell_type": "markdown",
   "id": "f0bd5026",
   "metadata": {
    "papermill": {
     "duration": 0.022808,
     "end_time": "2023-08-01T19:26:15.502520",
     "exception": false,
     "start_time": "2023-08-01T19:26:15.479712",
     "status": "completed"
    },
    "tags": []
   },
   "source": [
    "Checking :\n",
    "\n",
    "<details>\n",
    "<summary><b>Click to toggle code</b></summary>\n",
    "\n",
    "```python\n",
    "data['brand'].value_counts()\n",
    "```"
   ]
  },
  {
   "cell_type": "code",
   "execution_count": 19,
   "id": "aecd2bb3",
   "metadata": {
    "ExecuteTime": {
     "end_time": "2023-08-01T14:01:28.228296Z",
     "start_time": "2023-08-01T14:01:28.215227Z"
    },
    "execution": {
     "iopub.execute_input": "2023-08-01T19:26:15.550556Z",
     "iopub.status.busy": "2023-08-01T19:26:15.550123Z",
     "iopub.status.idle": "2023-08-01T19:26:15.558554Z",
     "shell.execute_reply": "2023-08-01T19:26:15.557586Z"
    },
    "jupyter": {
     "source_hidden": true
    },
    "papermill": {
     "duration": 0.034876,
     "end_time": "2023-08-01T19:26:15.560518",
     "exception": false,
     "start_time": "2023-08-01T19:26:15.525642",
     "status": "completed"
    },
    "tags": []
   },
   "outputs": [
    {
     "data": {
      "text/plain": [
       "samsung     401\n",
       "apple       290\n",
       "redmi       278\n",
       "vivo        264\n",
       "oppo        244\n",
       "realme      167\n",
       "oneplus     162\n",
       "infinix     113\n",
       "tecno       110\n",
       "motorola     83\n",
       "mi           47\n",
       "xiaomi       40\n",
       "Name: brand, dtype: int64"
      ]
     },
     "execution_count": 19,
     "metadata": {},
     "output_type": "execute_result"
    }
   ],
   "source": [
    "data['brand'].value_counts()"
   ]
  },
  {
   "cell_type": "markdown",
   "id": "17d5b23f",
   "metadata": {
    "ExecuteTime": {
     "end_time": "2023-07-31T19:37:59.190065Z",
     "start_time": "2023-07-31T19:37:59.187157Z"
    },
    "papermill": {
     "duration": 0.023131,
     "end_time": "2023-08-01T19:26:15.607051",
     "exception": false,
     "start_time": "2023-08-01T19:26:15.583920",
     "status": "completed"
    },
    "tags": []
   },
   "source": [
    "##### &rarr; 3.3.2. Color cleaning :"
   ]
  },
  {
   "cell_type": "markdown",
   "id": "de1e1174",
   "metadata": {
    "papermill": {
     "duration": 0.022819,
     "end_time": "2023-08-01T19:26:15.653044",
     "exception": false,
     "start_time": "2023-08-01T19:26:15.630225",
     "status": "completed"
    },
    "tags": []
   },
   "source": [
    "Checking occurences:"
   ]
  },
  {
   "cell_type": "code",
   "execution_count": 20,
   "id": "dac73a51",
   "metadata": {
    "ExecuteTime": {
     "end_time": "2023-08-01T14:01:28.253277Z",
     "start_time": "2023-08-01T14:01:28.231573Z"
    },
    "execution": {
     "iopub.execute_input": "2023-08-01T19:26:15.701107Z",
     "iopub.status.busy": "2023-08-01T19:26:15.700732Z",
     "iopub.status.idle": "2023-08-01T19:26:15.710916Z",
     "shell.execute_reply": "2023-08-01T19:26:15.709987Z"
    },
    "jupyter": {
     "source_hidden": true
    },
    "papermill": {
     "duration": 0.03641,
     "end_time": "2023-08-01T19:26:15.712848",
     "exception": false,
     "start_time": "2023-08-01T19:26:15.676438",
     "status": "completed"
    },
    "tags": []
   },
   "outputs": [
    {
     "data": {
      "text/plain": [
       "Black            112\n",
       "Blue              70\n",
       "Gold              63\n",
       "Silver            51\n",
       "White             36\n",
       "                ... \n",
       "Memphis Green      1\n",
       "PAC-MAN            1\n",
       "SEA BLUE           1\n",
       "Ocean Wave         1\n",
       "Meta Green         1\n",
       "Name: color, Length: 671, dtype: int64"
      ]
     },
     "execution_count": 20,
     "metadata": {},
     "output_type": "execute_result"
    }
   ],
   "source": [
    "data['color'].value_counts()"
   ]
  },
  {
   "cell_type": "markdown",
   "id": "3dbdf6f5",
   "metadata": {
    "ExecuteTime": {
     "end_time": "2023-08-01T13:56:51.629292Z",
     "start_time": "2023-08-01T13:56:51.624435Z"
    },
    "papermill": {
     "duration": 0.023155,
     "end_time": "2023-08-01T19:26:15.759603",
     "exception": false,
     "start_time": "2023-08-01T19:26:15.736448",
     "status": "completed"
    },
    "tags": []
   },
   "source": [
    "String lowercase :\n",
    "\n",
    "<details>\n",
    "<summary><b>Click to toggle code</b></summary>\n",
    "\n",
    "```python\n",
    "data['color'] = data['color'].str.lower()\n",
    "```"
   ]
  },
  {
   "cell_type": "code",
   "execution_count": 21,
   "id": "d74944bf",
   "metadata": {
    "ExecuteTime": {
     "end_time": "2023-08-01T14:01:28.273373Z",
     "start_time": "2023-08-01T14:01:28.256642Z"
    },
    "execution": {
     "iopub.execute_input": "2023-08-01T19:26:15.808227Z",
     "iopub.status.busy": "2023-08-01T19:26:15.807265Z",
     "iopub.status.idle": "2023-08-01T19:26:15.813845Z",
     "shell.execute_reply": "2023-08-01T19:26:15.813069Z"
    },
    "jupyter": {
     "source_hidden": true
    },
    "papermill": {
     "duration": 0.033001,
     "end_time": "2023-08-01T19:26:15.815770",
     "exception": false,
     "start_time": "2023-08-01T19:26:15.782769",
     "status": "completed"
    },
    "tags": []
   },
   "outputs": [],
   "source": [
    "data['color'] = data['color'].str.lower()"
   ]
  },
  {
   "cell_type": "markdown",
   "id": "ea8470fe",
   "metadata": {
    "ExecuteTime": {
     "end_time": "2023-08-01T13:57:10.538610Z",
     "start_time": "2023-08-01T13:57:10.528819Z"
    },
    "papermill": {
     "duration": 0.023708,
     "end_time": "2023-08-01T19:26:15.862717",
     "exception": false,
     "start_time": "2023-08-01T19:26:15.839009",
     "status": "completed"
    },
    "tags": []
   },
   "source": [
    "Delete nan :\n",
    "\n",
    "<details>\n",
    "<summary><b>Click to toggle code</b></summary>\n",
    "\n",
    "```python\n",
    "mask2 = data['color'].isnull()\n",
    "idx_color = data.index[mask2]\n",
    "data = data.drop(index=idx_color, inplace=True)\n",
    "```"
   ]
  },
  {
   "cell_type": "code",
   "execution_count": 22,
   "id": "d3640f9d",
   "metadata": {
    "ExecuteTime": {
     "end_time": "2023-08-01T14:02:30.340030Z",
     "start_time": "2023-08-01T14:02:30.333023Z"
    },
    "execution": {
     "iopub.execute_input": "2023-08-01T19:26:15.911425Z",
     "iopub.status.busy": "2023-08-01T19:26:15.910751Z",
     "iopub.status.idle": "2023-08-01T19:26:15.917659Z",
     "shell.execute_reply": "2023-08-01T19:26:15.916872Z"
    },
    "jupyter": {
     "source_hidden": true
    },
    "papermill": {
     "duration": 0.033652,
     "end_time": "2023-08-01T19:26:15.919636",
     "exception": false,
     "start_time": "2023-08-01T19:26:15.885984",
     "status": "completed"
    },
    "tags": []
   },
   "outputs": [],
   "source": [
    "mask2 = data['color'].isnull()\n",
    "idx_color = data.index[mask2]\n",
    "data.drop(index=idx_color, inplace=True)"
   ]
  },
  {
   "cell_type": "markdown",
   "id": "019d8ebc",
   "metadata": {
    "papermill": {
     "duration": 0.023837,
     "end_time": "2023-08-01T19:26:15.966971",
     "exception": false,
     "start_time": "2023-08-01T19:26:15.943134",
     "status": "completed"
    },
    "tags": []
   },
   "source": [
    "extract_color function :\n",
    "\n",
    "<details>\n",
    "<summary><b>Click to toggle code</b></summary>\n",
    "\n",
    "```python\n",
    "def extract_color(data):\n",
    "    colors = [\n",
    "        'red', 'blue', 'yellow', 'green', 'black', 'silver', 'gold', 'purple',\n",
    "        'starlight', 'white', 'cyan', 'violet', 'brown', 'orange', 'pink',\n",
    "        'grey', 'gray', 'peach'\n",
    "    ]\n",
    "    for color in colors:\n",
    "        if color in data.lower():\n",
    "            return color\n",
    "\n",
    "    return data\n",
    "```"
   ]
  },
  {
   "cell_type": "code",
   "execution_count": 23,
   "id": "151c0950",
   "metadata": {
    "ExecuteTime": {
     "end_time": "2023-08-01T14:03:51.657592Z",
     "start_time": "2023-08-01T14:03:51.654049Z"
    },
    "execution": {
     "iopub.execute_input": "2023-08-01T19:26:16.016914Z",
     "iopub.status.busy": "2023-08-01T19:26:16.016270Z",
     "iopub.status.idle": "2023-08-01T19:26:16.021885Z",
     "shell.execute_reply": "2023-08-01T19:26:16.021155Z"
    },
    "jupyter": {
     "source_hidden": true
    },
    "papermill": {
     "duration": 0.032645,
     "end_time": "2023-08-01T19:26:16.023921",
     "exception": false,
     "start_time": "2023-08-01T19:26:15.991276",
     "status": "completed"
    },
    "tags": []
   },
   "outputs": [],
   "source": [
    "def extract_color(data):\n",
    "    colors = [\n",
    "        'red', 'blue', 'yellow', 'green', 'black', 'silver', 'gold', 'purple',\n",
    "        'starlight', 'white', 'cyan', 'violet', 'brown', 'orange', 'pink',\n",
    "        'grey', 'gray', 'peach'\n",
    "    ]\n",
    "    for color in colors:\n",
    "        if color in data.lower():\n",
    "            return color\n",
    "\n",
    "    return data"
   ]
  },
  {
   "cell_type": "markdown",
   "id": "0d471d3d",
   "metadata": {
    "papermill": {
     "duration": 0.022694,
     "end_time": "2023-08-01T19:26:16.070140",
     "exception": false,
     "start_time": "2023-08-01T19:26:16.047446",
     "status": "completed"
    },
    "tags": []
   },
   "source": [
    "We apply the color function + replace some occurences :\n",
    "\n",
    "<details>\n",
    "<summary><b>Click to toggle code</b></summary>\n",
    "\n",
    "```python\n",
    "data['color'] = data['color'].apply(extract_color)\n",
    "data['color'] = data['color'].replace('gray', 'grey').replace(\n",
    "    'cyan', 'blue').replace('violet', 'purple')\n",
    "```"
   ]
  },
  {
   "cell_type": "code",
   "execution_count": 24,
   "id": "950b231f",
   "metadata": {
    "ExecuteTime": {
     "end_time": "2023-08-01T14:04:58.226346Z",
     "start_time": "2023-08-01T14:04:58.215811Z"
    },
    "execution": {
     "iopub.execute_input": "2023-08-01T19:26:16.119411Z",
     "iopub.status.busy": "2023-08-01T19:26:16.118788Z",
     "iopub.status.idle": "2023-08-01T19:26:16.128784Z",
     "shell.execute_reply": "2023-08-01T19:26:16.127856Z"
    },
    "jupyter": {
     "source_hidden": true
    },
    "papermill": {
     "duration": 0.037536,
     "end_time": "2023-08-01T19:26:16.130835",
     "exception": false,
     "start_time": "2023-08-01T19:26:16.093299",
     "status": "completed"
    },
    "tags": []
   },
   "outputs": [],
   "source": [
    "data['color'] = data['color'].apply(extract_color)\n",
    "data['color'] = data['color'].replace('gray', 'grey').replace(\n",
    "    'cyan', 'blue').replace('violet', 'purple')"
   ]
  },
  {
   "cell_type": "markdown",
   "id": "105c6d3b",
   "metadata": {
    "papermill": {
     "duration": 0.022957,
     "end_time": "2023-08-01T19:26:16.177225",
     "exception": false,
     "start_time": "2023-08-01T19:26:16.154268",
     "status": "completed"
    },
    "tags": []
   },
   "source": [
    "We drop colors < 80 occurences :\n",
    "\n",
    "<details>\n",
    "<summary><b>Click to toggle code</b></summary>\n",
    "\n",
    "```python\n",
    "# Calculate the counts of each color in the 'color' column\n",
    "color_counts = data['color'].value_counts()\n",
    "\n",
    "# Filter the colors that have more than 80 occurrences\n",
    "colors_to_keep = color_counts[color_counts > 80].index.tolist()\n",
    "\n",
    "# Create a mask to filter the rows with the colors to keep\n",
    "mask = result_df['color'].isin(colors_to_keep)\n",
    "\n",
    "# Filter the DataFrame to keep only the colors with more than 80 occurrences\n",
    "result_df_filtered = result_df[mask]\n",
    "```"
   ]
  },
  {
   "cell_type": "code",
   "execution_count": 25,
   "id": "bd87b66f",
   "metadata": {
    "ExecuteTime": {
     "end_time": "2023-08-01T14:08:02.407738Z",
     "start_time": "2023-08-01T14:08:02.399878Z"
    },
    "execution": {
     "iopub.execute_input": "2023-08-01T19:26:16.224783Z",
     "iopub.status.busy": "2023-08-01T19:26:16.224412Z",
     "iopub.status.idle": "2023-08-01T19:26:16.232904Z",
     "shell.execute_reply": "2023-08-01T19:26:16.232074Z"
    },
    "jupyter": {
     "source_hidden": true
    },
    "papermill": {
     "duration": 0.034752,
     "end_time": "2023-08-01T19:26:16.235015",
     "exception": false,
     "start_time": "2023-08-01T19:26:16.200263",
     "status": "completed"
    },
    "tags": []
   },
   "outputs": [],
   "source": [
    "# Calculate the counts of each color in the 'color' column\n",
    "color_counts = data['color'].value_counts()\n",
    "\n",
    "# Filter the colors that have more than 80 occurrences\n",
    "colors_to_keep = color_counts[color_counts > 80].index.tolist()\n",
    "\n",
    "# Create a mask to filter the rows with the colors to keep\n",
    "mask = data['color'].isin(colors_to_keep)\n",
    "\n",
    "# Filter the DataFrame to keep only the colors with more than 80 occurrences\n",
    "data = data[mask]"
   ]
  },
  {
   "cell_type": "code",
   "execution_count": 26,
   "id": "99cac988",
   "metadata": {
    "ExecuteTime": {
     "end_time": "2023-08-01T14:08:28.930398Z",
     "start_time": "2023-08-01T14:08:28.924545Z"
    },
    "execution": {
     "iopub.execute_input": "2023-08-01T19:26:16.283516Z",
     "iopub.status.busy": "2023-08-01T19:26:16.282835Z",
     "iopub.status.idle": "2023-08-01T19:26:16.290700Z",
     "shell.execute_reply": "2023-08-01T19:26:16.289695Z"
    },
    "jupyter": {
     "source_hidden": true
    },
    "papermill": {
     "duration": 0.034546,
     "end_time": "2023-08-01T19:26:16.292905",
     "exception": false,
     "start_time": "2023-08-01T19:26:16.258359",
     "status": "completed"
    },
    "tags": []
   },
   "outputs": [
    {
     "data": {
      "text/plain": [
       "black     526\n",
       "blue      500\n",
       "green     173\n",
       "white     161\n",
       "gold      142\n",
       "silver    124\n",
       "grey      123\n",
       "purple     86\n",
       "Name: color, dtype: int64"
      ]
     },
     "execution_count": 26,
     "metadata": {},
     "output_type": "execute_result"
    }
   ],
   "source": [
    "data['color'].value_counts()"
   ]
  },
  {
   "cell_type": "markdown",
   "id": "2c953ed7",
   "metadata": {
    "papermill": {
     "duration": 0.023151,
     "end_time": "2023-08-01T19:26:16.339730",
     "exception": false,
     "start_time": "2023-08-01T19:26:16.316579",
     "status": "completed"
    },
    "tags": []
   },
   "source": [
    "##### &rarr; 3.3.2. Storage cleaning :\n",
    "\n",
    "We reuse the function for extracting numbers for our \"storage\" column.\n",
    "\n",
    "<details>\n",
    "<summary><b>Click to toggle code</b></summary>\n",
    "\n",
    "```python\n",
    "data['stockage'] = data['stockage'].apply(extract_numbers).astype(int)\n",
    "```"
   ]
  },
  {
   "cell_type": "code",
   "execution_count": 27,
   "id": "e502b976",
   "metadata": {
    "ExecuteTime": {
     "end_time": "2023-08-01T14:10:15.459939Z",
     "start_time": "2023-08-01T14:10:15.453268Z"
    },
    "execution": {
     "iopub.execute_input": "2023-08-01T19:26:16.388561Z",
     "iopub.status.busy": "2023-08-01T19:26:16.388195Z",
     "iopub.status.idle": "2023-08-01T19:26:16.396425Z",
     "shell.execute_reply": "2023-08-01T19:26:16.395703Z"
    },
    "jupyter": {
     "source_hidden": true
    },
    "papermill": {
     "duration": 0.034942,
     "end_time": "2023-08-01T19:26:16.398244",
     "exception": false,
     "start_time": "2023-08-01T19:26:16.363302",
     "status": "completed"
    },
    "tags": []
   },
   "outputs": [],
   "source": [
    "data['storage'] = data['storage'].apply(extract_numbers).astype(int)"
   ]
  },
  {
   "cell_type": "code",
   "execution_count": 28,
   "id": "e30aecff",
   "metadata": {
    "ExecuteTime": {
     "end_time": "2023-08-01T14:10:32.184458Z",
     "start_time": "2023-08-01T14:10:32.179080Z"
    },
    "execution": {
     "iopub.execute_input": "2023-08-01T19:26:16.448161Z",
     "iopub.status.busy": "2023-08-01T19:26:16.447493Z",
     "iopub.status.idle": "2023-08-01T19:26:16.455038Z",
     "shell.execute_reply": "2023-08-01T19:26:16.454138Z"
    },
    "jupyter": {
     "source_hidden": true
    },
    "papermill": {
     "duration": 0.034177,
     "end_time": "2023-08-01T19:26:16.457048",
     "exception": false,
     "start_time": "2023-08-01T19:26:16.422871",
     "status": "completed"
    },
    "tags": []
   },
   "outputs": [
    {
     "data": {
      "text/plain": [
       "128    787\n",
       "64     524\n",
       "256    268\n",
       "32     158\n",
       "16      35\n",
       "512     30\n",
       "1       15\n",
       "8       11\n",
       "6        5\n",
       "4        2\n",
       "Name: storage, dtype: int64"
      ]
     },
     "execution_count": 28,
     "metadata": {},
     "output_type": "execute_result"
    }
   ],
   "source": [
    "data['storage'].value_counts()"
   ]
  },
  {
   "cell_type": "markdown",
   "id": "f66c2187",
   "metadata": {
    "ExecuteTime": {
     "end_time": "2023-08-01T14:12:41.221033Z",
     "start_time": "2023-08-01T14:12:41.215973Z"
    },
    "papermill": {
     "duration": 0.023359,
     "end_time": "2023-08-01T19:26:16.504095",
     "exception": false,
     "start_time": "2023-08-01T19:26:16.480736",
     "status": "completed"
    },
    "tags": []
   },
   "source": [
    "We will remove all phones with less than 40 occurrences for their storage: \n",
    "    \n",
    "<details>\n",
    "<summary><b>Click to toggle code</b></summary>\n",
    "\n",
    "```python\n",
    "storage_counts = data['stockage'].value_counts()\n",
    "\n",
    "# Filtrer les couleurs qui ont plus de 80 occurrences\n",
    "storage_to_keep = storage_counts[storage_counts > 40].index.tolist()\n",
    "\n",
    "# Créer un masque pour filtrer les lignes avec les couleurs à garder\n",
    "mask = data['stockage'].isin(storage_to_keep)\n",
    "\n",
    "# Filtrer le DataFrame pour ne garder que les couleurs avec plus de 80 occurrences\n",
    "data = data[mask]\n",
    "```"
   ]
  },
  {
   "cell_type": "code",
   "execution_count": 29,
   "id": "a9bbb94a",
   "metadata": {
    "ExecuteTime": {
     "end_time": "2023-08-01T14:13:03.868441Z",
     "start_time": "2023-08-01T14:13:03.862682Z"
    },
    "execution": {
     "iopub.execute_input": "2023-08-01T19:26:16.553436Z",
     "iopub.status.busy": "2023-08-01T19:26:16.553025Z",
     "iopub.status.idle": "2023-08-01T19:26:16.560954Z",
     "shell.execute_reply": "2023-08-01T19:26:16.560070Z"
    },
    "jupyter": {
     "source_hidden": true
    },
    "papermill": {
     "duration": 0.03525,
     "end_time": "2023-08-01T19:26:16.562994",
     "exception": false,
     "start_time": "2023-08-01T19:26:16.527744",
     "status": "completed"
    },
    "tags": []
   },
   "outputs": [],
   "source": [
    "storage_counts = data['storage'].value_counts()\n",
    "\n",
    "# Filtrer les couleurs qui ont plus de 80 occurrences\n",
    "storage_to_keep = storage_counts[storage_counts > 40].index.tolist()\n",
    "\n",
    "# Créer un masque pour filtrer les lignes avec les couleurs à garder\n",
    "mask = data['storage'].isin(storage_to_keep)\n",
    "\n",
    "# Filtrer le DataFrame pour ne garder que les couleurs avec plus de 80 occurrences\n",
    "data = data[mask]"
   ]
  },
  {
   "cell_type": "code",
   "execution_count": 30,
   "id": "41e51dd0",
   "metadata": {
    "ExecuteTime": {
     "end_time": "2023-08-01T14:13:12.969005Z",
     "start_time": "2023-08-01T14:13:12.963491Z"
    },
    "execution": {
     "iopub.execute_input": "2023-08-01T19:26:16.612314Z",
     "iopub.status.busy": "2023-08-01T19:26:16.611940Z",
     "iopub.status.idle": "2023-08-01T19:26:16.619020Z",
     "shell.execute_reply": "2023-08-01T19:26:16.618356Z"
    },
    "jupyter": {
     "source_hidden": true
    },
    "papermill": {
     "duration": 0.033913,
     "end_time": "2023-08-01T19:26:16.620746",
     "exception": false,
     "start_time": "2023-08-01T19:26:16.586833",
     "status": "completed"
    },
    "tags": []
   },
   "outputs": [
    {
     "data": {
      "text/plain": [
       "128    723\n",
       "64     459\n",
       "256    247\n",
       "32     142\n",
       "Name: storage, dtype: int64"
      ]
     },
     "execution_count": 30,
     "metadata": {},
     "output_type": "execute_result"
    }
   ],
   "source": [
    "dataframe['storage'].value_counts()"
   ]
  },
  {
   "cell_type": "markdown",
   "id": "d6bac1af",
   "metadata": {
    "papermill": {
     "duration": 0.023268,
     "end_time": "2023-08-01T19:26:16.667802",
     "exception": false,
     "start_time": "2023-08-01T19:26:16.644534",
     "status": "completed"
    },
    "tags": []
   },
   "source": [
    "We reset our index :\n",
    "\n",
    "<details>\n",
    "<summary><b>Click to toggle code</b></summary>\n",
    "\n",
    "```python\n",
    "data.reset_index(drop=True, inplace=True)\n",
    "```"
   ]
  },
  {
   "cell_type": "code",
   "execution_count": 31,
   "id": "baf5363d",
   "metadata": {
    "ExecuteTime": {
     "end_time": "2023-08-01T14:13:59.249351Z",
     "start_time": "2023-08-01T14:13:59.245935Z"
    },
    "execution": {
     "iopub.execute_input": "2023-08-01T19:26:16.716252Z",
     "iopub.status.busy": "2023-08-01T19:26:16.715877Z",
     "iopub.status.idle": "2023-08-01T19:26:16.720424Z",
     "shell.execute_reply": "2023-08-01T19:26:16.719407Z"
    },
    "jupyter": {
     "source_hidden": true
    },
    "papermill": {
     "duration": 0.031029,
     "end_time": "2023-08-01T19:26:16.722343",
     "exception": false,
     "start_time": "2023-08-01T19:26:16.691314",
     "status": "completed"
    },
    "tags": []
   },
   "outputs": [],
   "source": [
    "data.reset_index(drop=True, inplace=True)\n"
   ]
  },
  {
   "cell_type": "markdown",
   "id": "cd56befc",
   "metadata": {
    "papermill": {
     "duration": 0.023293,
     "end_time": "2023-08-01T19:26:16.769587",
     "exception": false,
     "start_time": "2023-08-01T19:26:16.746294",
     "status": "completed"
    },
    "tags": []
   },
   "source": [
    "## <u>4.Feature Extraction from the Corpus<a id=\"ce\"></a></u>"
   ]
  },
  {
   "cell_type": "markdown",
   "id": "bdd2942d",
   "metadata": {
    "papermill": {
     "duration": 0.023272,
     "end_time": "2023-08-01T19:26:16.816497",
     "exception": false,
     "start_time": "2023-08-01T19:26:16.793225",
     "status": "completed"
    },
    "tags": []
   },
   "source": [
    "We print some corpus from our dataframe :\n",
    "\n",
    "<details>\n",
    "<summary><b>Click to toggle code</b></summary>\n",
    "\n",
    "```python\n",
    "for index, row in data.sample(4).iterrows():\n",
    "    print(row['corpus'])\n",
    "    print('')\n",
    "    print('')\n",
    "```"
   ]
  },
  {
   "cell_type": "code",
   "execution_count": 32,
   "id": "b6fbe575",
   "metadata": {
    "ExecuteTime": {
     "end_time": "2023-08-01T14:16:48.506137Z",
     "start_time": "2023-08-01T14:16:48.500861Z"
    },
    "execution": {
     "iopub.execute_input": "2023-08-01T19:26:16.865723Z",
     "iopub.status.busy": "2023-08-01T19:26:16.865325Z",
     "iopub.status.idle": "2023-08-01T19:26:16.871374Z",
     "shell.execute_reply": "2023-08-01T19:26:16.870459Z"
    },
    "jupyter": {
     "source_hidden": true
    },
    "papermill": {
     "duration": 0.033978,
     "end_time": "2023-08-01T19:26:16.874050",
     "exception": false,
     "start_time": "2023-08-01T19:26:16.840072",
     "status": "completed"
    },
    "tags": []
   },
   "outputs": [
    {
     "name": "stdout",
     "output_type": "stream",
     "text": [
      "Storage128 GBRAM8 GBExpandable Storage1TB  SystemAndroid 11Processor TypeQualcomm Snapdragon 778GProcessor Speed2.4 64MP 12MP 5MP 5MP 64MP 12MP 5MP 5MP 32MP 5G Capacity4500 Display Size16.51 cm (6.5 inch)Resolution2400 x 1080 PixelsResolution TypeFull HD+GPUQualcomm Adreno 642LDisplay TypeFull HD+ Super AMOLED DisplayDisplay Colors16MOther Display Features120Hz Refresh Rate\n",
      "\n",
      "\n",
      "Storage64 GBRAM3 GBExpandable Storage1TB  SystemAndroid 12Processor TypeMediatek Helio P35Processor Speed2.3 13MP 2MP 13MP 2MP 5MP 5MP 4G Capacity5000 Display Size16.54 cm (6.51 inch)Resolution1600 x 720 PixelResolution TypeHD+GPUIMG PowerVR GE8320Display TypeHD+ LCD (IPS) DisplayOther Display FeaturesRefresh Rate: 60 Hz, Screen-to-Body Ratio: 88.99%, Aspect Ratio: 20:9\n",
      "\n",
      "\n",
      "Storage64 GBRAM6 GBExpandable Storage512GB  SystemAndroid Pie 10Processor TypeSamsung Exynos 9 Octa 9611Processor Speed2.3 64MP 8MP 5MP 5MP 32MP 4G Capacity6000 Display Size16.26 cm (6.4 inch)Resolution2340 x 1080$$pixelResolution TypeFull HD+GPUMali-G72 MP3\n",
      "\n",
      "\n",
      "Storage32 GBRAM2  SystemAndroid Q 10.1Processor Speed2 13MP 4G Capacity6000 Display Size17.78 cm (7 inch)Resolution720 x 1640$$pixel\n",
      "\n",
      "\n"
     ]
    }
   ],
   "source": [
    "for index, row in data.sample(4).iterrows():\n",
    "    print(row['corpus'])\n",
    "    print('')\n",
    "    print('')"
   ]
  },
  {
   "cell_type": "markdown",
   "id": "838f5763",
   "metadata": {
    "papermill": {
     "duration": 0.023346,
     "end_time": "2023-08-01T19:26:16.921328",
     "exception": false,
     "start_time": "2023-08-01T19:26:16.897982",
     "status": "completed"
    },
    "tags": []
   },
   "source": [
    "### <u>4.1.Corpus WordCloud<a id=\"ce1\"></a></u>\n",
    "\n",
    "We will generate a word cloud to try to observe the most recurring occurrences in our corpus :\n",
    "\n",
    "\n",
    "<details>\n",
    "<summary><b>Click to toggle code</b></summary>\n",
    "    \n",
    "```python\n",
    "from collections import Counter\n",
    "import matplotlib.pyplot as plt\n",
    "from wordcloud import WordCloud\n",
    "\n",
    "# Step 1: Text Preprocessing\n",
    "def preprocess_text(text):\n",
    "    # Convert the text to lowercase\n",
    "    text = text.lower()\n",
    "    # Remove punctuation and special characters\n",
    "    text = re.sub(r'[^\\w\\s]', '', text)\n",
    "    return text\n",
    "\n",
    "# Apply text preprocessing to the \"corpus\" column\n",
    "data['corpus'] = data['corpus'].apply(preprocess_text)\n",
    "\n",
    "# Step 2: Term Counting\n",
    "# Combine all corpora into a single text\n",
    "all_corpus_text = ' '.join(data['corpus'].tolist())\n",
    "# Split the text into words (tokens)\n",
    "all_tokens = all_corpus_text.split()\n",
    "# Count the occurrences of each term (word)\n",
    "term_counts = Counter(all_tokens)\n",
    "\n",
    "# Step 3: Word Cloud Creation\n",
    "# Create a word cloud to visualize the most frequent terms\n",
    "wordcloud = WordCloud(width=800, height=400, background_color='white').generate_from_frequencies(term_counts)\n",
    "\n",
    "# Display the word cloud\n",
    "plt.figure(figsize=(10, 5))\n",
    "plt.imshow(wordcloud, interpolation='bilinear')\n",
    "plt.axis('off')\n",
    "plt.show()\n",
    "\n",
    "# Step 4: Ascending List of Terms with Occurrences\n",
    "# Sort the term_counts dictionary based on occurrences (in ascending order)\n",
    "sorted_terms = sorted(term_counts.items(), key=lambda x: x[1], reverse=True)\n",
    "\n",
    "# Display the list of terms with their occurrences (in ascending order)\n",
    "print(\"List of terms with their occurrences (in ascending order):\")\n",
    "for term, count in sorted_terms:\n",
    "    print(f\"{term}: {count}\")\n",
    "```"
   ]
  },
  {
   "cell_type": "code",
   "execution_count": 33,
   "id": "80e8e689",
   "metadata": {
    "ExecuteTime": {
     "end_time": "2023-08-01T14:22:16.038558Z",
     "start_time": "2023-08-01T14:22:15.196377Z"
    },
    "execution": {
     "iopub.execute_input": "2023-08-01T19:26:16.970519Z",
     "iopub.status.busy": "2023-08-01T19:26:16.970140Z",
     "iopub.status.idle": "2023-08-01T19:26:18.212944Z",
     "shell.execute_reply": "2023-08-01T19:26:18.212071Z"
    },
    "jupyter": {
     "source_hidden": true
    },
    "papermill": {
     "duration": 1.26992,
     "end_time": "2023-08-01T19:26:18.214882",
     "exception": false,
     "start_time": "2023-08-01T19:26:16.944962",
     "status": "completed"
    },
    "tags": []
   },
   "outputs": [
    {
     "data": {
      "image/png": "[encoded data removed]",
      "text/plain": [
       "<Figure size 1000x500 with 1 Axes>"
      ]
     },
     "metadata": {},
     "output_type": "display_data"
    }
   ],
   "source": [
    "from collections import Counter\n",
    "import matplotlib.pyplot as plt\n",
    "from wordcloud import WordCloud\n",
    "\n",
    "# Step 1: Text Preprocessing\n",
    "def preprocess_text(text):\n",
    "    # Convert the text to lowercase\n",
    "    text = text.lower()\n",
    "    # Remove punctuation and special characters\n",
    "    text = re.sub(r'[^\\w\\s]', '', text)\n",
    "    return text\n",
    "\n",
    "# Apply text preprocessing to the \"corpus\" column\n",
    "data['corpus'] = data['corpus'].apply(preprocess_text)\n",
    "\n",
    "# Step 2: Term Counting\n",
    "# Combine all corpora into a single text\n",
    "all_corpus_text = ' '.join(data['corpus'].tolist())\n",
    "# Split the text into words (tokens)\n",
    "all_tokens = all_corpus_text.split()\n",
    "# Count the occurrences of each term (word)\n",
    "term_counts = Counter(all_tokens)\n",
    "\n",
    "# Step 3: Word Cloud Creation\n",
    "# Create a word cloud to visualize the most frequent terms\n",
    "wordcloud = WordCloud(width=800, height=400, background_color='white').generate_from_frequencies(term_counts)\n",
    "\n",
    "# Display the word cloud\n",
    "plt.figure(figsize=(10, 5))\n",
    "plt.imshow(wordcloud, interpolation='bilinear')\n",
    "plt.axis('off')\n",
    "plt.show()\n",
    "\n",
    "# Step 4: Ascending List of Terms with Occurrences\n",
    "# Sort the term_counts dictionary based on occurrences (in ascending order)\n",
    "sorted_terms = sorted(term_counts.items(), key=lambda x: x[1], reverse=True)\n",
    "\n",
    "# Display the list of terms with their occurrences (in ascending order)\n",
    "\n",
    "# print(\"List of terms with their occurrences (in ascending order):\")\n",
    "# for term, count in sorted_terms:\n",
    "#     print(f\"{term}: {count}\")"
   ]
  },
  {
   "cell_type": "markdown",
   "id": "efef1f73",
   "metadata": {
    "papermill": {
     "duration": 0.02932,
     "end_time": "2023-08-01T19:26:18.274621",
     "exception": false,
     "start_time": "2023-08-01T19:26:18.245301",
     "status": "completed"
    },
    "tags": []
   },
   "source": [
    "**We can see from the word cloud that the information seems to be nested within each other. This will somewhat complicate our processing, but with the help of Regex, it should be achievable.**"
   ]
  },
  {
   "cell_type": "markdown",
   "id": "047ac166",
   "metadata": {
    "papermill": {
     "duration": 0.029475,
     "end_time": "2023-08-01T19:26:18.333952",
     "exception": false,
     "start_time": "2023-08-01T19:26:18.304477",
     "status": "completed"
    },
    "tags": []
   },
   "source": [
    "### <u>4.2.System Extraction<a id=\"ce2\"></a></u>"
   ]
  },
  {
   "cell_type": "markdown",
   "id": "31ab57d6",
   "metadata": {
    "ExecuteTime": {
     "end_time": "2023-08-01T14:26:22.390034Z",
     "start_time": "2023-08-01T14:26:22.384585Z"
    },
    "papermill": {
     "duration": 0.031677,
     "end_time": "2023-08-01T19:26:18.395256",
     "exception": false,
     "start_time": "2023-08-01T19:26:18.363579",
     "status": "completed"
    },
    "tags": []
   },
   "source": [
    "We create an extract function using regex :\n",
    "    \n",
    "<details>\n",
    "<summary><b>Click to toggle code</b></summary>\n",
    "    \n",
    "```python\n",
    "def extract_system_string(corpus):\n",
    "    # Use a regular expression to search for strings containing 'system'\n",
    "    pattern = r'\\b(system\\w+)\\b'\n",
    "    system_strings = re.findall(pattern, corpus)\n",
    "\n",
    "    # Remove the word \"system\" from each found string\n",
    "    result_strings = [s.replace('system', '') for s in system_strings]\n",
    "\n",
    "    # Join the processed strings into a single string separated by a space\n",
    "    result = ' '.join(result_strings)\n",
    "\n",
    "    return result\n",
    "```"
   ]
  },
  {
   "cell_type": "code",
   "execution_count": 34,
   "id": "d514d9cd",
   "metadata": {
    "ExecuteTime": {
     "end_time": "2023-08-01T14:26:29.733741Z",
     "start_time": "2023-08-01T14:26:29.729876Z"
    },
    "execution": {
     "iopub.execute_input": "2023-08-01T19:26:18.456000Z",
     "iopub.status.busy": "2023-08-01T19:26:18.455631Z",
     "iopub.status.idle": "2023-08-01T19:26:18.461177Z",
     "shell.execute_reply": "2023-08-01T19:26:18.460168Z"
    },
    "jupyter": {
     "source_hidden": true
    },
    "papermill": {
     "duration": 0.038294,
     "end_time": "2023-08-01T19:26:18.463304",
     "exception": false,
     "start_time": "2023-08-01T19:26:18.425010",
     "status": "completed"
    },
    "tags": []
   },
   "outputs": [],
   "source": [
    "def extract_system_string(corpus):\n",
    "    # Use a regular expression to search for strings containing 'system'\n",
    "    pattern = r'\\b(system\\w+)\\b'\n",
    "    system_strings = re.findall(pattern, corpus)\n",
    "\n",
    "    # Remove the word \"system\" from each found string\n",
    "    result_strings = [s.replace('system', '') for s in system_strings]\n",
    "\n",
    "    # Join the processed strings into a single string separated by a space\n",
    "    result = ' '.join(result_strings)\n",
    "\n",
    "    return result"
   ]
  },
  {
   "cell_type": "markdown",
   "id": "481bd901",
   "metadata": {
    "papermill": {
     "duration": 0.02933,
     "end_time": "2023-08-01T19:26:18.522166",
     "exception": false,
     "start_time": "2023-08-01T19:26:18.492836",
     "status": "completed"
    },
    "tags": []
   },
   "source": [
    "We apply it and and we group similar systems together :\n",
    "\n",
    "<details>\n",
    "<summary><b>Click to toggle code</b></summary>\n",
    "    \n",
    "```python\n",
    "# Extract \n",
    "data['system'] = data['corpus'].apply(extract_system_string)\n",
    " \n",
    "# Replace\n",
    "data['system'] = data['system'].replace(\n",
    "    'androidprocessor',\n",
    "    'android').replace('hios', \n",
    "                       'android').replace('12primary', 'android')\n",
    "```"
   ]
  },
  {
   "cell_type": "code",
   "execution_count": 35,
   "id": "c7112580",
   "metadata": {
    "ExecuteTime": {
     "end_time": "2023-08-01T14:28:35.448390Z",
     "start_time": "2023-08-01T14:28:35.429207Z"
    },
    "execution": {
     "iopub.execute_input": "2023-08-01T19:26:18.582983Z",
     "iopub.status.busy": "2023-08-01T19:26:18.582075Z",
     "iopub.status.idle": "2023-08-01T19:26:18.609490Z",
     "shell.execute_reply": "2023-08-01T19:26:18.608604Z"
    },
    "jupyter": {
     "source_hidden": true
    },
    "papermill": {
     "duration": 0.060014,
     "end_time": "2023-08-01T19:26:18.611603",
     "exception": false,
     "start_time": "2023-08-01T19:26:18.551589",
     "status": "completed"
    },
    "tags": []
   },
   "outputs": [],
   "source": [
    "data['system'] = data['corpus'].apply(extract_system_string)\n",
    " \n",
    "# Replace\n",
    "data['system'] = data['system'].replace(\n",
    "    'androidprocessor',\n",
    "    'android').replace('hios', \n",
    "                       'android').replace('12primary', 'android')"
   ]
  },
  {
   "cell_type": "markdown",
   "id": "1455481b",
   "metadata": {
    "ExecuteTime": {
     "end_time": "2023-08-01T14:32:34.876140Z",
     "start_time": "2023-08-01T14:32:34.870873Z"
    },
    "papermill": {
     "duration": 0.02966,
     "end_time": "2023-08-01T19:26:18.671110",
     "exception": false,
     "start_time": "2023-08-01T19:26:18.641450",
     "status": "completed"
    },
    "tags": []
   },
   "source": [
    "We keep system that have more than 150 occurences :\n",
    "\n",
    "<details>\n",
    "<summary><b>Click to toggle code</b></summary>\n",
    "    \n",
    "```python\n",
    "# Calculate the counts of each system in the 'system' column\n",
    "system_counts = data['system'].value_counts()\n",
    "\n",
    "# Filter the systems that have more than 150 occurrences\n",
    "systems_to_keep = system_counts[system_counts > 150].index.tolist()\n",
    "\n",
    "# Create a mask to filter the rows with the systems to keep\n",
    "mask = data['system'].isin(systems_to_keep)\n",
    "\n",
    "# Filter the DataFrame to keep only the systems with more than 150 occurrences\n",
    "data = data[mask]\n",
    "```"
   ]
  },
  {
   "cell_type": "code",
   "execution_count": 36,
   "id": "b5cb2d59",
   "metadata": {
    "ExecuteTime": {
     "end_time": "2023-08-01T14:32:41.396390Z",
     "start_time": "2023-08-01T14:32:41.390331Z"
    },
    "execution": {
     "iopub.execute_input": "2023-08-01T19:26:18.732265Z",
     "iopub.status.busy": "2023-08-01T19:26:18.731901Z",
     "iopub.status.idle": "2023-08-01T19:26:18.740549Z",
     "shell.execute_reply": "2023-08-01T19:26:18.739715Z"
    },
    "jupyter": {
     "source_hidden": true
    },
    "papermill": {
     "duration": 0.041736,
     "end_time": "2023-08-01T19:26:18.742610",
     "exception": false,
     "start_time": "2023-08-01T19:26:18.700874",
     "status": "completed"
    },
    "tags": []
   },
   "outputs": [],
   "source": [
    "# Calculate the counts of each system in the 'system' column\n",
    "system_counts = data['system'].value_counts()\n",
    "\n",
    "# Filter the systems that have more than 150 occurrences\n",
    "systems_to_keep = system_counts[system_counts > 150].index.tolist()\n",
    "\n",
    "# Create a mask to filter the rows with the systems to keep\n",
    "mask = data['system'].isin(systems_to_keep)\n",
    "\n",
    "# Filter the DataFrame to keep only the systems with more than 150 occurrences\n",
    "data = data[mask]"
   ]
  },
  {
   "cell_type": "markdown",
   "id": "6e7b90ed",
   "metadata": {
    "papermill": {
     "duration": 0.029499,
     "end_time": "2023-08-01T19:26:18.802251",
     "exception": false,
     "start_time": "2023-08-01T19:26:18.772752",
     "status": "completed"
    },
    "tags": []
   },
   "source": [
    "### <u>4.3.Processor Type Extraction<a id=\"ce3\"></a></u>\n"
   ]
  },
  {
   "cell_type": "markdown",
   "id": "fb9470fc",
   "metadata": {
    "papermill": {
     "duration": 0.030737,
     "end_time": "2023-08-01T19:26:18.862979",
     "exception": false,
     "start_time": "2023-08-01T19:26:18.832242",
     "status": "completed"
    },
    "tags": []
   },
   "source": [
    "We create an extract function using regex and applyt it on data :\n",
    "    \n",
    "<details>\n",
    "<summary><b>Click to toggle code</b></summary>\n",
    "    \n",
    "```python\n",
    "def extract_processor_string(corpus):\n",
    "    # Use a regular expression to search for processors\n",
    "    pattern = r'type(\\w+)'\n",
    "    processor_match = re.search(pattern, corpus)\n",
    "\n",
    "    # Retrieve the text found after 'Type'\n",
    "    result = processor_match.group(1) if processor_match else ''\n",
    "\n",
    "    return result\n",
    "\n",
    "# Apply the function to the \"corpus\" column of the DataFrame\n",
    "data['processor_type'] = data['corpus'].apply(extract_processor_string)\n",
    "```"
   ]
  },
  {
   "cell_type": "code",
   "execution_count": 37,
   "id": "9a2b3cbb",
   "metadata": {
    "ExecuteTime": {
     "end_time": "2023-08-01T14:35:23.506684Z",
     "start_time": "2023-08-01T14:35:23.500080Z"
    },
    "execution": {
     "iopub.execute_input": "2023-08-01T19:26:18.924006Z",
     "iopub.status.busy": "2023-08-01T19:26:18.923362Z",
     "iopub.status.idle": "2023-08-01T19:26:18.932838Z",
     "shell.execute_reply": "2023-08-01T19:26:18.931834Z"
    },
    "jupyter": {
     "source_hidden": true
    },
    "papermill": {
     "duration": 0.042222,
     "end_time": "2023-08-01T19:26:18.934891",
     "exception": false,
     "start_time": "2023-08-01T19:26:18.892669",
     "status": "completed"
    },
    "tags": []
   },
   "outputs": [],
   "source": [
    "def extract_processor_string(corpus):\n",
    "    # Use a regular expression to search for processors\n",
    "    pattern = r'type(\\w+)'\n",
    "    processor_match = re.search(pattern, corpus)\n",
    "\n",
    "    # Retrieve the text found after 'Type'\n",
    "    result = processor_match.group(1) if processor_match else ''\n",
    "\n",
    "    return result\n",
    "\n",
    "# Apply the function to the \"corpus\" column of the DataFrame\n",
    "data['processor_type'] = data['corpus'].apply(extract_processor_string)"
   ]
  },
  {
   "cell_type": "markdown",
   "id": "e1beb878",
   "metadata": {
    "papermill": {
     "duration": 0.02923,
     "end_time": "2023-08-01T19:26:18.994003",
     "exception": false,
     "start_time": "2023-08-01T19:26:18.964773",
     "status": "completed"
    },
    "tags": []
   },
   "source": [
    "We group similar systems together : \n",
    " \n",
    " \n",
    " <details>\n",
    "<summary><b>Click to toggle code</b></summary>\n",
    "    \n",
    "```python\n",
    "# Replace the a+[value] with 'apple'\n",
    "data['processor_type'] = data['processor_type'].replace(r'^a\\d+', 'apple', regex=True)\n",
    "\n",
    "# List of values to replace with 'mediatek'\n",
    "mediatek_replace = [\n",
    "    'g37processor', 'helio', 'dimensity', 'mt6763tprocessor', 'mtk',\n",
    "    'mediateckprocessor', 'meditek', 'mtk6739', 'mt6762'\n",
    "]\n",
    "# List of values to replace with 'qualcomm'\n",
    "qualcomm_replace = ['snapdragon', 'sdm439processor', 'sdm710processor']\n",
    "\n",
    "# List of values to replace with 'unisoc'\n",
    "unisoc_replace = ['t612processor']\n",
    "\n",
    "# List of values to replace with 'samsung'\n",
    "samsung_replace = ['exynos']\n",
    "\n",
    "# Replace the values in the 'processor_type' column\n",
    "data['processor_type'] = data['processor_type'].replace(\n",
    "    mediatek_replace,\n",
    "    'mediatek').replace(qualcomm_replace, 'qualcomm').replace(\n",
    "        unisoc_replace, 'unisoc').replace(samsung_replace, 'samsung')\n",
    "```"
   ]
  },
  {
   "cell_type": "code",
   "execution_count": 38,
   "id": "eb9bce9f",
   "metadata": {
    "ExecuteTime": {
     "end_time": "2023-08-01T14:39:05.089813Z",
     "start_time": "2023-08-01T14:39:05.078968Z"
    },
    "execution": {
     "iopub.execute_input": "2023-08-01T19:26:19.055168Z",
     "iopub.status.busy": "2023-08-01T19:26:19.054823Z",
     "iopub.status.idle": "2023-08-01T19:26:19.068414Z",
     "shell.execute_reply": "2023-08-01T19:26:19.067610Z"
    },
    "jupyter": {
     "source_hidden": true
    },
    "papermill": {
     "duration": 0.046655,
     "end_time": "2023-08-01T19:26:19.070456",
     "exception": false,
     "start_time": "2023-08-01T19:26:19.023801",
     "status": "completed"
    },
    "tags": []
   },
   "outputs": [],
   "source": [
    "# Replace the a+[value] with 'apple'\n",
    "data['processor_type'] = data['processor_type'].replace(r'^a\\d+', 'apple', regex=True)\n",
    "\n",
    "# List of values to replace with 'mediatek'\n",
    "mediatek_replace = [\n",
    "    'g37processor', 'helio', 'dimensity', 'mt6763tprocessor', 'mtk',\n",
    "    'mediateckprocessor', 'meditek', 'mtk6739', 'mt6762'\n",
    "]\n",
    "# List of values to replace with 'qualcomm'\n",
    "qualcomm_replace = ['snapdragon', 'sdm439processor', 'sdm710processor']\n",
    "\n",
    "# List of values to replace with 'unisoc'\n",
    "unisoc_replace = ['t612processor']\n",
    "\n",
    "# List of values to replace with 'samsung'\n",
    "samsung_replace = ['exynos']\n",
    "\n",
    "# Replace the values in the 'processor_type' column\n",
    "data['processor_type'] = data['processor_type'].replace(\n",
    "    mediatek_replace,\n",
    "    'mediatek').replace(qualcomm_replace, 'qualcomm').replace(\n",
    "        unisoc_replace, 'unisoc').replace(samsung_replace, 'samsung')"
   ]
  },
  {
   "cell_type": "code",
   "execution_count": 39,
   "id": "eff23c4a",
   "metadata": {
    "ExecuteTime": {
     "end_time": "2023-08-01T14:39:22.122144Z",
     "start_time": "2023-08-01T14:39:22.114751Z"
    },
    "execution": {
     "iopub.execute_input": "2023-08-01T19:26:19.132043Z",
     "iopub.status.busy": "2023-08-01T19:26:19.131675Z",
     "iopub.status.idle": "2023-08-01T19:26:19.140184Z",
     "shell.execute_reply": "2023-08-01T19:26:19.139290Z"
    },
    "jupyter": {
     "source_hidden": true
    },
    "papermill": {
     "duration": 0.041862,
     "end_time": "2023-08-01T19:26:19.142011",
     "exception": false,
     "start_time": "2023-08-01T19:26:19.100149",
     "status": "completed"
    },
    "tags": []
   },
   "outputs": [
    {
     "data": {
      "text/plain": [
       "mediatek             583\n",
       "qualcomm             454\n",
       "                     316\n",
       "apple                161\n",
       "samsung              109\n",
       "unisoc                51\n",
       "full                  19\n",
       "octa                  10\n",
       "20                     7\n",
       "sec                    6\n",
       "hdgpuarm               3\n",
       "hdgpuimagination       2\n",
       "16                     2\n",
       "hd                     2\n",
       "hdgpuadreno            2\n",
       "2ndgen                 1\n",
       "hdgpupowervr           1\n",
       "quad                   1\n",
       "octacoreprocessor      1\n",
       "hddisplay              1\n",
       "hdhd                   1\n",
       "Name: processor_type, dtype: int64"
      ]
     },
     "execution_count": 39,
     "metadata": {},
     "output_type": "execute_result"
    }
   ],
   "source": [
    "data['processor_type'].value_counts()"
   ]
  },
  {
   "cell_type": "markdown",
   "id": "33376be2",
   "metadata": {
    "papermill": {
     "duration": 0.0295,
     "end_time": "2023-08-01T19:26:19.201255",
     "exception": false,
     "start_time": "2023-08-01T19:26:19.171755",
     "status": "completed"
    },
    "tags": []
   },
   "source": [
    "Our regex has found an empty value, and we will identify and process this variable :\n",
    "\n",
    " <details>\n",
    "<summary><b>Click to toggle code</b></summary>\n",
    "    \n",
    "```python\n",
    "# Count the occurrences of each value in the 'processor_type' column\n",
    "value_counts_processor_type = data['processor_type'].value_counts()\n",
    "\n",
    "# Get the third category (at index 2) from the value_counts\n",
    "value_of_third_category = value_counts_processor_type.index[2]\n",
    "\n",
    "# Replace the third category with 'intel' in the 'processor_type' column\n",
    "data['processor_type'] = data['processor_type'].replace(value_of_third_category, 'intel')\n",
    "\n",
    "```"
   ]
  },
  {
   "cell_type": "code",
   "execution_count": 40,
   "id": "eb5cb169",
   "metadata": {
    "ExecuteTime": {
     "end_time": "2023-08-01T14:45:50.720718Z",
     "start_time": "2023-08-01T14:45:50.713243Z"
    },
    "execution": {
     "iopub.execute_input": "2023-08-01T19:26:19.262489Z",
     "iopub.status.busy": "2023-08-01T19:26:19.262120Z",
     "iopub.status.idle": "2023-08-01T19:26:19.268662Z",
     "shell.execute_reply": "2023-08-01T19:26:19.267683Z"
    },
    "jupyter": {
     "source_hidden": true
    },
    "papermill": {
     "duration": 0.039741,
     "end_time": "2023-08-01T19:26:19.270812",
     "exception": false,
     "start_time": "2023-08-01T19:26:19.231071",
     "status": "completed"
    },
    "tags": []
   },
   "outputs": [],
   "source": [
    "# Count the occurrences of each value in the 'processor_type' column\n",
    "value_counts_processor_type = data['processor_type'].value_counts()\n",
    "\n",
    "# Get the third category (at index 2) from the value_counts\n",
    "value_of_third_category = value_counts_processor_type.index[2]\n",
    "\n",
    "# Replace the third category with 'intel' in the 'processor_type' column\n",
    "data['processor_type'] = data['processor_type'].replace(value_of_third_category, 'intel')\n"
   ]
  },
  {
   "cell_type": "code",
   "execution_count": 41,
   "id": "a0dc08e8",
   "metadata": {
    "ExecuteTime": {
     "end_time": "2023-08-01T14:45:57.510761Z",
     "start_time": "2023-08-01T14:45:57.504736Z"
    },
    "execution": {
     "iopub.execute_input": "2023-08-01T19:26:19.332386Z",
     "iopub.status.busy": "2023-08-01T19:26:19.331969Z",
     "iopub.status.idle": "2023-08-01T19:26:19.340168Z",
     "shell.execute_reply": "2023-08-01T19:26:19.339268Z"
    },
    "jupyter": {
     "source_hidden": true
    },
    "papermill": {
     "duration": 0.041545,
     "end_time": "2023-08-01T19:26:19.342265",
     "exception": false,
     "start_time": "2023-08-01T19:26:19.300720",
     "status": "completed"
    },
    "tags": []
   },
   "outputs": [
    {
     "data": {
      "text/plain": [
       "mediatek             583\n",
       "qualcomm             454\n",
       "intel                316\n",
       "apple                161\n",
       "samsung              109\n",
       "unisoc                51\n",
       "full                  19\n",
       "octa                  10\n",
       "20                     7\n",
       "sec                    6\n",
       "hdgpuarm               3\n",
       "hdgpuimagination       2\n",
       "16                     2\n",
       "hd                     2\n",
       "hdgpuadreno            2\n",
       "2ndgen                 1\n",
       "hdgpupowervr           1\n",
       "quad                   1\n",
       "octacoreprocessor      1\n",
       "hddisplay              1\n",
       "hdhd                   1\n",
       "Name: processor_type, dtype: int64"
      ]
     },
     "execution_count": 41,
     "metadata": {},
     "output_type": "execute_result"
    }
   ],
   "source": [
    "data['processor_type'].value_counts()"
   ]
  },
  {
   "cell_type": "markdown",
   "id": "f26a9ac3",
   "metadata": {
    "papermill": {
     "duration": 0.029567,
     "end_time": "2023-08-01T19:26:19.402230",
     "exception": false,
     "start_time": "2023-08-01T19:26:19.372663",
     "status": "completed"
    },
    "tags": []
   },
   "source": [
    "We keep system that have more than 70 occurences :\n",
    "\n",
    " <details>\n",
    "<summary><b>Click to toggle code</b></summary>\n",
    "    \n",
    "```python\n",
    "# Count the occurrences of each value in the 'processor_type' column\n",
    "processor_counts = data['processor_type'].value_counts()\n",
    "\n",
    "# Filter the processors that have more than 70 occurrences\n",
    "processors_to_keep = processor_counts[processor_counts > 70].index.tolist()\n",
    "\n",
    "# Create a mask to filter the rows with the processors to keep\n",
    "mask = data['processor_type'].isin(processors_to_keep)\n",
    "\n",
    "# Filter the DataFrame to keep only the processors with more than 70 occurrences\n",
    "data = data[mask]\n",
    "```"
   ]
  },
  {
   "cell_type": "code",
   "execution_count": 42,
   "id": "11d074a9",
   "metadata": {
    "ExecuteTime": {
     "end_time": "2023-08-01T14:47:35.191154Z",
     "start_time": "2023-08-01T14:47:35.183622Z"
    },
    "execution": {
     "iopub.execute_input": "2023-08-01T19:26:19.463854Z",
     "iopub.status.busy": "2023-08-01T19:26:19.463131Z",
     "iopub.status.idle": "2023-08-01T19:26:19.470678Z",
     "shell.execute_reply": "2023-08-01T19:26:19.469955Z"
    },
    "jupyter": {
     "source_hidden": true
    },
    "papermill": {
     "duration": 0.040533,
     "end_time": "2023-08-01T19:26:19.472503",
     "exception": false,
     "start_time": "2023-08-01T19:26:19.431970",
     "status": "completed"
    },
    "tags": []
   },
   "outputs": [],
   "source": [
    "# Count the occurrences of each value in the 'processor_type' column\n",
    "processor_counts = data['processor_type'].value_counts()\n",
    "\n",
    "# Filter the processors that have more than 70 occurrences\n",
    "processors_to_keep = processor_counts[processor_counts > 70].index.tolist()\n",
    "\n",
    "# Create a mask to filter the rows with the processors to keep\n",
    "mask = data['processor_type'].isin(processors_to_keep)\n",
    "\n",
    "# Filter the DataFrame to keep only the processors with more than 70 occurrences\n",
    "data = data[mask]"
   ]
  },
  {
   "cell_type": "code",
   "execution_count": 43,
   "id": "8e3d99ff",
   "metadata": {
    "ExecuteTime": {
     "end_time": "2023-08-01T14:47:55.937299Z",
     "start_time": "2023-08-01T14:47:55.930211Z"
    },
    "execution": {
     "iopub.execute_input": "2023-08-01T19:26:19.534880Z",
     "iopub.status.busy": "2023-08-01T19:26:19.534198Z",
     "iopub.status.idle": "2023-08-01T19:26:19.541091Z",
     "shell.execute_reply": "2023-08-01T19:26:19.540443Z"
    },
    "jupyter": {
     "source_hidden": true
    },
    "papermill": {
     "duration": 0.040641,
     "end_time": "2023-08-01T19:26:19.542810",
     "exception": false,
     "start_time": "2023-08-01T19:26:19.502169",
     "status": "completed"
    },
    "tags": []
   },
   "outputs": [
    {
     "data": {
      "text/plain": [
       "mediatek    583\n",
       "qualcomm    454\n",
       "intel       316\n",
       "apple       161\n",
       "samsung     109\n",
       "Name: processor_type, dtype: int64"
      ]
     },
     "execution_count": 43,
     "metadata": {},
     "output_type": "execute_result"
    }
   ],
   "source": [
    "data['processor_type'].value_counts()"
   ]
  },
  {
   "cell_type": "markdown",
   "id": "795e6369",
   "metadata": {
    "papermill": {
     "duration": 0.029439,
     "end_time": "2023-08-01T19:26:19.602225",
     "exception": false,
     "start_time": "2023-08-01T19:26:19.572786",
     "status": "completed"
    },
    "tags": []
   },
   "source": [
    "### <u>4.4.Resolution extraction<a id=\"ce4\"></a></u>\n",
    "\n",
    "We create an extract function using regex and applyt it on data :\n",
    "    \n",
    "<details>\n",
    "<summary><b>Click to toggle code</b></summary>\n",
    "    \n",
    "```python    \n",
    "def extract_resolution(corpus):\n",
    "    # Use a regular expression to search for the resolution\n",
    "    pattern = r'resolution(\\d+\\s*x\\s*\\d+)'\n",
    "    resolution_match = re.search(pattern, corpus)\n",
    "\n",
    "    # Retrieve the resolution found in the corpus\n",
    "    result = resolution_match.group(1) if resolution_match else ''\n",
    "\n",
    "    # Remove all non-numeric characters\n",
    "    result = re.sub(r'\\D', '', result)\n",
    "\n",
    "    # Split the result based on the number of characters\n",
    "    if len(result) == 7 or len(result) == 8:\n",
    "        result = result[:4] + ' x ' + result[4:]\n",
    "    elif len(result) == 6:\n",
    "        result = result[:3] + ' x ' + result[3:]\n",
    "\n",
    "    # Keep only the second part of the resolution (after 'x')\n",
    "    result = result.split('x')[-1].strip()\n",
    "\n",
    "    return result\n",
    "\n",
    "    \n",
    "# Apply the function to the \"corpus\" column of the DataFrame\n",
    "data['resolution'] = data['corpus'].apply(extract_resolution)\n",
    "```"
   ]
  },
  {
   "cell_type": "code",
   "execution_count": 44,
   "id": "3c5535a9",
   "metadata": {
    "ExecuteTime": {
     "end_time": "2023-08-01T14:58:58.586311Z",
     "start_time": "2023-08-01T14:58:58.575038Z"
    },
    "execution": {
     "iopub.execute_input": "2023-08-01T19:26:19.664144Z",
     "iopub.status.busy": "2023-08-01T19:26:19.663486Z",
     "iopub.status.idle": "2023-08-01T19:26:19.678291Z",
     "shell.execute_reply": "2023-08-01T19:26:19.677572Z"
    },
    "jupyter": {
     "source_hidden": true
    },
    "papermill": {
     "duration": 0.047804,
     "end_time": "2023-08-01T19:26:19.680210",
     "exception": false,
     "start_time": "2023-08-01T19:26:19.632406",
     "status": "completed"
    },
    "tags": []
   },
   "outputs": [],
   "source": [
    "def extract_resolution(corpus):\n",
    "    # Use a regular expression to search for the resolution\n",
    "    pattern = r'resolution(\\d+\\s*x\\s*\\d+)'\n",
    "    resolution_match = re.search(pattern, corpus)\n",
    "\n",
    "    # Retrieve the resolution found in the corpus\n",
    "    result = resolution_match.group(1) if resolution_match else ''\n",
    "\n",
    "    # Remove all non-numeric characters\n",
    "    result = re.sub(r'\\D', '', result)\n",
    "\n",
    "    # Split the result based on the number of characters\n",
    "    if len(result) == 7 or len(result) == 8:\n",
    "        result = result[:4] + ' x ' + result[4:]\n",
    "    elif len(result) == 6:\n",
    "        result = result[:3] + ' x ' + result[3:]\n",
    "\n",
    "    # Keep only the second part of the resolution (after 'x')\n",
    "    result = result.split('x')[-1].strip()\n",
    "\n",
    "    return result\n",
    "\n",
    "    \n",
    "# Apply the function to the \"corpus\" column of the DataFrame\n",
    "data['resolution'] = data['corpus'].apply(extract_resolution)"
   ]
  },
  {
   "cell_type": "markdown",
   "id": "7b0e3eed",
   "metadata": {
    "papermill": {
     "duration": 0.029497,
     "end_time": "2023-08-01T19:26:19.739462",
     "exception": false,
     "start_time": "2023-08-01T19:26:19.709965",
     "status": "completed"
    },
    "tags": []
   },
   "source": [
    "We drop nan value :\n",
    "\n",
    "<details>\n",
    "<summary><b>Click to toggle code</b></summary>\n",
    "    \n",
    "```python \n",
    "# Find the indexes of rows where \"resolution\" is empty\n",
    "empty_resolution_index = data[data['resolution'] == ''].index\n",
    "\n",
    "# Remove the corresponding rows\n",
    "data.drop(empty_resolution_index, inplace=True)\n",
    "\n",
    "```"
   ]
  },
  {
   "cell_type": "code",
   "execution_count": 45,
   "id": "0a510e01",
   "metadata": {
    "ExecuteTime": {
     "end_time": "2023-08-01T15:02:57.457418Z",
     "start_time": "2023-08-01T15:02:57.450821Z"
    },
    "execution": {
     "iopub.execute_input": "2023-08-01T19:26:19.801113Z",
     "iopub.status.busy": "2023-08-01T19:26:19.800451Z",
     "iopub.status.idle": "2023-08-01T19:26:19.807044Z",
     "shell.execute_reply": "2023-08-01T19:26:19.806330Z"
    },
    "jupyter": {
     "source_hidden": true
    },
    "papermill": {
     "duration": 0.039612,
     "end_time": "2023-08-01T19:26:19.808844",
     "exception": false,
     "start_time": "2023-08-01T19:26:19.769232",
     "status": "completed"
    },
    "tags": []
   },
   "outputs": [],
   "source": [
    "# Find the indexes of rows where \"resolution\" is empty\n",
    "empty_resolution_index = data[data['resolution'] == ''].index\n",
    "\n",
    "# Remove the corresponding rows\n",
    "data.drop(empty_resolution_index, inplace=True)"
   ]
  },
  {
   "cell_type": "markdown",
   "id": "6438dfb3",
   "metadata": {
    "papermill": {
     "duration": 0.031086,
     "end_time": "2023-08-01T19:26:19.869748",
     "exception": false,
     "start_time": "2023-08-01T19:26:19.838662",
     "status": "completed"
    },
    "tags": []
   },
   "source": [
    "We redefine our values into four categories: [Resolution Infos](https://www.phonandroid.com/differences-definition-resolution-ecran.html)\n",
    "\n",
    "<details>\n",
    "<summary><b>Click to toggle code</b></summary>\n",
    "    \n",
    "```python \n",
    "def convert_resolution(resolution_str):\n",
    "    # Convert the resolution to an integer\n",
    "    resolution = int(resolution_str)\n",
    "\n",
    "    # Assign categories based on the resolution\n",
    "    if resolution < 1080:\n",
    "        return 'HD'\n",
    "    elif resolution >= 1080 and resolution < 1440:\n",
    "        return 'Full HD'\n",
    "    elif resolution >= 1440 and resolution < 1644:\n",
    "        return '2K'\n",
    "    else:\n",
    "        return '4K'\n",
    "\n",
    "\n",
    "data['resolution'] = data['resolution'].apply(convert_resolution)\n",
    "                                                  \n",
    "```"
   ]
  },
  {
   "cell_type": "code",
   "execution_count": 46,
   "id": "899b24f6",
   "metadata": {
    "ExecuteTime": {
     "end_time": "2023-08-01T15:06:08.217318Z",
     "start_time": "2023-08-01T15:06:08.211454Z"
    },
    "execution": {
     "iopub.execute_input": "2023-08-01T19:26:19.933086Z",
     "iopub.status.busy": "2023-08-01T19:26:19.932372Z",
     "iopub.status.idle": "2023-08-01T19:26:19.939330Z",
     "shell.execute_reply": "2023-08-01T19:26:19.938613Z"
    },
    "jupyter": {
     "source_hidden": true
    },
    "papermill": {
     "duration": 0.041505,
     "end_time": "2023-08-01T19:26:19.941239",
     "exception": false,
     "start_time": "2023-08-01T19:26:19.899734",
     "status": "completed"
    },
    "tags": []
   },
   "outputs": [],
   "source": [
    "def convert_resolution(resolution_str):\n",
    "    # Convert the resolution to an integer\n",
    "    resolution = int(resolution_str)\n",
    "\n",
    "    # Assign categories based on the resolution\n",
    "    if resolution < 1080:\n",
    "        return 'HD'\n",
    "    elif resolution >= 1080 and resolution < 1440:\n",
    "        return 'Full HD'\n",
    "    elif resolution >= 1440 and resolution < 1644:\n",
    "        return '2K'\n",
    "    else:\n",
    "        return '4K'\n",
    "\n",
    "\n",
    "data['resolution'] = data['resolution'].apply(convert_resolution)"
   ]
  },
  {
   "cell_type": "code",
   "execution_count": 47,
   "id": "7a003074",
   "metadata": {
    "ExecuteTime": {
     "end_time": "2023-08-01T15:06:25.146046Z",
     "start_time": "2023-08-01T15:06:25.138497Z"
    },
    "execution": {
     "iopub.execute_input": "2023-08-01T19:26:20.003292Z",
     "iopub.status.busy": "2023-08-01T19:26:20.002903Z",
     "iopub.status.idle": "2023-08-01T19:26:20.010485Z",
     "shell.execute_reply": "2023-08-01T19:26:20.009741Z"
    },
    "jupyter": {
     "source_hidden": true
    },
    "papermill": {
     "duration": 0.04066,
     "end_time": "2023-08-01T19:26:20.012292",
     "exception": false,
     "start_time": "2023-08-01T19:26:19.971632",
     "status": "completed"
    },
    "tags": []
   },
   "outputs": [
    {
     "data": {
      "text/plain": [
       "Full HD    915\n",
       "HD         479\n",
       "4K         152\n",
       "2K          25\n",
       "Name: resolution, dtype: int64"
      ]
     },
     "execution_count": 47,
     "metadata": {},
     "output_type": "execute_result"
    }
   ],
   "source": [
    "data['resolution'].value_counts()"
   ]
  },
  {
   "cell_type": "markdown",
   "id": "a7b3caf7",
   "metadata": {
    "papermill": {
     "duration": 0.029784,
     "end_time": "2023-08-01T19:26:20.072561",
     "exception": false,
     "start_time": "2023-08-01T19:26:20.042777",
     "status": "completed"
    },
    "tags": []
   },
   "source": [
    "### <u>4.5.Size extraction<a id=\"ce5\"></a></u>\n",
    "\n",
    "We create an extract function using regex and applyt it on data :\n",
    "    \n",
    "<details>\n",
    "<summary><b>Click to toggle code</b></summary>\n",
    "    \n",
    "```python\n",
    "def extract_size_inch(corpus):\n",
    "    # Use a regular expression to search for the number followed by \"inch\"\n",
    "    pattern = r'(\\d+)\\s*inch'\n",
    "    inch_match = re.search(pattern, corpus)\n",
    "\n",
    "    # Retrieve the number found in the corpus\n",
    "    result = inch_match.group(1) if inch_match else ''\n",
    "\n",
    "    # Insert a dot after the first character\n",
    "    if len(result) > 1:\n",
    "        result = result[:1] + '.' + result[1:]\n",
    "\n",
    "    return round(float(result), 1) if result else None  # Convert to float\n",
    "\n",
    "\n",
    "# Apply the function to the \"corpus\" column of the DataFrame\n",
    "data['size'] = data['corpus'].apply(extract_size_inch)\n",
    "```"
   ]
  },
  {
   "cell_type": "code",
   "execution_count": 48,
   "id": "e50a4092",
   "metadata": {
    "ExecuteTime": {
     "end_time": "2023-08-01T15:08:57.274401Z",
     "start_time": "2023-08-01T15:08:57.250852Z"
    },
    "execution": {
     "iopub.execute_input": "2023-08-01T19:26:20.136294Z",
     "iopub.status.busy": "2023-08-01T19:26:20.135292Z",
     "iopub.status.idle": "2023-08-01T19:26:20.157378Z",
     "shell.execute_reply": "2023-08-01T19:26:20.156298Z"
    },
    "jupyter": {
     "source_hidden": true
    },
    "papermill": {
     "duration": 0.056825,
     "end_time": "2023-08-01T19:26:20.159789",
     "exception": false,
     "start_time": "2023-08-01T19:26:20.102964",
     "status": "completed"
    },
    "tags": []
   },
   "outputs": [],
   "source": [
    "def extract_size_inch(corpus):\n",
    "    # Use a regular expression to search for the number followed by \"inch\"\n",
    "    pattern = r'(\\d+)\\s*inch'\n",
    "    inch_match = re.search(pattern, corpus)\n",
    "\n",
    "    # Retrieve the number found in the corpus\n",
    "    result = inch_match.group(1) if inch_match else ''\n",
    "\n",
    "    # Insert a dot after the first character\n",
    "    if len(result) > 1:\n",
    "        result = result[:1] + '.' + result[1:]\n",
    "\n",
    "    return round(float(result), 1) if result else None  # Convert to float\n",
    "\n",
    "\n",
    "# Apply the function to the \"corpus\" column of the DataFrame\n",
    "data['size'] = data['corpus'].apply(extract_size_inch)"
   ]
  },
  {
   "cell_type": "code",
   "execution_count": 49,
   "id": "51f1cc2c",
   "metadata": {
    "ExecuteTime": {
     "end_time": "2023-08-01T15:09:11.671935Z",
     "start_time": "2023-08-01T15:09:11.664868Z"
    },
    "execution": {
     "iopub.execute_input": "2023-08-01T19:26:20.221850Z",
     "iopub.status.busy": "2023-08-01T19:26:20.221487Z",
     "iopub.status.idle": "2023-08-01T19:26:20.230577Z",
     "shell.execute_reply": "2023-08-01T19:26:20.229446Z"
    },
    "jupyter": {
     "source_hidden": true
    },
    "papermill": {
     "duration": 0.042912,
     "end_time": "2023-08-01T19:26:20.232782",
     "exception": false,
     "start_time": "2023-08-01T19:26:20.189870",
     "status": "completed"
    },
    "tags": []
   },
   "outputs": [
    {
     "data": {
      "text/plain": [
       "6.5    373\n",
       "6.7    281\n",
       "6.6    249\n",
       "6.4    236\n",
       "6.8     77\n",
       "6.1     55\n",
       "6.2     49\n",
       "5.5     48\n",
       "6.3     47\n",
       "4.7     43\n",
       "6.0     37\n",
       "7.0     16\n",
       "5.8     16\n",
       "5.4     14\n",
       "5.7      6\n",
       "6.9      6\n",
       "7.6      5\n",
       "5.6      4\n",
       "5.0      3\n",
       "5.2      2\n",
       "1.8      1\n",
       "4.0      1\n",
       "5.9      1\n",
       "Name: size, dtype: int64"
      ]
     },
     "execution_count": 49,
     "metadata": {},
     "output_type": "execute_result"
    }
   ],
   "source": [
    "data['size'].value_counts()"
   ]
  },
  {
   "cell_type": "markdown",
   "id": "109258d1",
   "metadata": {
    "papermill": {
     "duration": 0.029999,
     "end_time": "2023-08-01T19:26:20.293240",
     "exception": false,
     "start_time": "2023-08-01T19:26:20.263241",
     "status": "completed"
    },
    "tags": []
   },
   "source": [
    "## <u>5.Save New Dataframe<a id=\"snd\"></a></u>"
   ]
  },
  {
   "cell_type": "markdown",
   "id": "fbe60a80",
   "metadata": {
    "papermill": {
     "duration": 0.030031,
     "end_time": "2023-08-01T19:26:20.353445",
     "exception": false,
     "start_time": "2023-08-01T19:26:20.323414",
     "status": "completed"
    },
    "tags": []
   },
   "source": [
    "We create an extract function using regex and applyt it on data :\n",
    "    \n",
    "<details>\n",
    "<summary><b>Click to toggle code</b></summary>\n",
    "    \n",
    "```python\n",
    "data.to_csv('data/mobile_characteristics.csv', index=False)\n",
    "```"
   ]
  },
  {
   "cell_type": "code",
   "execution_count": 50,
   "id": "df3699ef",
   "metadata": {
    "ExecuteTime": {
     "end_time": "2023-08-01T15:12:13.014956Z",
     "start_time": "2023-08-01T15:12:12.985700Z"
    },
    "execution": {
     "iopub.execute_input": "2023-08-01T19:26:20.416752Z",
     "iopub.status.busy": "2023-08-01T19:26:20.416026Z",
     "iopub.status.idle": "2023-08-01T19:26:20.453187Z",
     "shell.execute_reply": "2023-08-01T19:26:20.452112Z"
    },
    "jupyter": {
     "source_hidden": true
    },
    "papermill": {
     "duration": 0.071511,
     "end_time": "2023-08-01T19:26:20.455577",
     "exception": false,
     "start_time": "2023-08-01T19:26:20.384066",
     "status": "completed"
    },
    "tags": []
   },
   "outputs": [],
   "source": [
    "data.to_csv('data/mobile_characteristics.csv', index=False)"
   ]
  },
  {
   "cell_type": "markdown",
   "id": "05614b0a",
   "metadata": {
    "ExecuteTime": {
     "end_time": "2023-08-01T15:12:52.683493Z",
     "start_time": "2023-08-01T15:12:52.680578Z"
    },
    "papermill": {
     "duration": 0.030075,
     "end_time": "2023-08-01T19:26:20.516016",
     "exception": false,
     "start_time": "2023-08-01T19:26:20.485941",
     "status": "completed"
    },
    "tags": []
   },
   "source": [
    "## <u>6.Conclusion & Infos<a id=\"c&a\"></a></u>"
   ]
  },
  {
   "cell_type": "markdown",
   "id": "29f439c7",
   "metadata": {
    "ExecuteTime": {
     "end_time": "2023-08-01T15:16:25.847744Z",
     "start_time": "2023-08-01T15:16:25.841499Z"
    },
    "papermill": {
     "duration": 0.030403,
     "end_time": "2023-08-01T19:26:20.576809",
     "exception": false,
     "start_time": "2023-08-01T19:26:20.546406",
     "status": "completed"
    },
    "tags": []
   },
   "source": [
    "##### Conclusion:\n",
    "\n",
    "In this data analysis project, we explored various features present in the DataFrame to enrich it for machine learning and data analysis purposes. The main objectives were to predict smartphone ratings and prices using these characteristics. Our data preprocessing involved handling missing values, converting currency, and extracting valuable information using regular expressions (Regex). We successfully extracted information from the 'name' column, such as brand, mobile name, color, and storage.\n",
    "\n",
    "For data exploration, we generated a word cloud to visualize the most frequent terms present in the corpus. This aided us in identifying important patterns and trends in the data. We also categorized the processors into four categories: MediaTek, Qualcomm, Unisoc, and Samsung. Additionally, we converted the resolution values into four categories: HD, Full HD, 2K, and 4K.\n",
    "\n",
    "Our analysis was focused on resolving issues with missing and redundant data and gaining insights into features that significantly impact smartphone ratings and prices. The project allowed us to identify and process valuable information from the dataset efficiently.\n",
    "\n",
    "In conclusion, through a thorough exploration and extraction of features with the aid of Regex, we have enriched the DataFrame, and we can now utilize this valuable information for further machine learning and data analysis projects related to smartphone ratings and prices.\n",
    "\n",
    "\n",
    "##### Infos :\n",
    "\n",
    "If you desire more information on data preprocessing or Machine Learning techniques, I invite you to visit my GitHub repository: [My_GitHub](https://github.com/CassienBABEY)\n",
    "\n",
    "You will soon find an Exploratory Data Analysis (EDA) as well as a prediction model based on it.\n",
    "\n",
    "\n",
    "\n",
    "\n",
    "\n"
   ]
  },
  {
   "cell_type": "markdown",
   "id": "daa90d37",
   "metadata": {
    "papermill": {
     "duration": 0.029844,
     "end_time": "2023-08-01T19:26:20.637516",
     "exception": false,
     "start_time": "2023-08-01T19:26:20.607672",
     "status": "completed"
    },
    "tags": []
   },
   "source": [
    "# Thank you for your attention and consideration !"
   ]
  }
 ],
 "metadata": {
  "kernelspec": {
   "display_name": "Python 3 (ipykernel)",
   "language": "python",
   "name": "python3"
  },
  "language_info": {
   "codemirror_mode": {
    "name": "ipython",
    "version": 3
   },
   "file_extension": ".py",
   "mimetype": "text/x-python",
   "name": "python",
   "nbconvert_exporter": "python",
   "pygments_lexer": "ipython3",
   "version": "3.10.9"
  },
  "papermill": {
   "default_parameters": {},
   "duration": 18.862817,
   "end_time": "2023-08-01T19:26:21.490273",
   "environment_variables": {},
   "exception": null,
   "input_path": "__notebook__.ipynb",
   "output_path": "__notebook__.ipynb",
   "parameters": {},
   "start_time": "2023-08-01T19:26:02.627456",
   "version": "2.4.0"
  },
  "toc": {
   "base_numbering": 1,
   "nav_menu": {},
   "number_sections": true,
   "sideBar": true,
   "skip_h1_title": false,
   "title_cell": "Table of Contents",
   "title_sidebar": "Contents",
   "toc_cell": false,
   "toc_position": {},
   "toc_section_display": true,
   "toc_window_display": false
  },
  "varInspector": {
   "cols": {
    "lenName": 16,
    "lenType": 16,
    "lenVar": 40
   },
   "kernels_config": {
    "python": {
     "delete_cmd_postfix": "",
     "delete_cmd_prefix": "del ",
     "library": "var_list.py",
     "varRefreshCmd": "print(var_dic_list())"
    },
    "r": {
     "delete_cmd_postfix": ") ",
     "delete_cmd_prefix": "rm(",
     "library": "var_list.r",
     "varRefreshCmd": "cat(var_dic_list()) "
    }
   },
   "types_to_exclude": [
    "module",
    "function",
    "builtin_function_or_method",
    "instance",
    "_Feature"
   ],
   "window_display": false
  }
 },
 "nbformat": 4,
 "nbformat_minor": 5
}
